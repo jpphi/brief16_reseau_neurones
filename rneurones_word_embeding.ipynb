{
 "cells": [
  {
   "cell_type": "code",
   "execution_count": 1,
   "id": "beginning-bedroom",
   "metadata": {},
   "outputs": [],
   "source": [
    "# import\n",
    "import pandas as pds\n",
    "#import string\n",
    "import numpy as np\n",
    "\n",
    "#for machine Learning - classification \n",
    "from sklearn.svm import LinearSVC\n",
    "from sklearn.metrics import confusion_matrix, f1_score, classification_report\n",
    "from sklearn.model_selection import train_test_split\n",
    "from sklearn.feature_extraction.text import CountVectorizer, TfidfVectorizer\n",
    "#\n",
    "from sklearn.linear_model import SGDClassifier, LogisticRegression, LogisticRegressionCV\n",
    "#\n",
    "# for visuaiization\n",
    "#import seaborn as sns\n",
    "import matplotlib.pyplot as plt\n",
    "\n",
    "#for NLP\n",
    "from nltk.stem import WordNetLemmatizer\n",
    "from nltk import word_tokenize\n",
    "from nltk.corpus import stopwords\n",
    "\n",
    "import nltk\n",
    "\n",
    "from keras.models import Sequential\n",
    "from keras import layers\n",
    "from keras.preprocessing.text import Tokenizer\n",
    "import string\n",
    "from keras.preprocessing.sequence import pad_sequences\n",
    "from sklearn.preprocessing import LabelEncoder\n",
    "from keras.backend import clear_session\n"
   ]
  },
  {
   "cell_type": "code",
   "execution_count": 2,
   "id": "natural-tiger",
   "metadata": {},
   "outputs": [],
   "source": [
    "def create_embedding_matrix(filepath, word_index, embedding_dim):\n",
    "    vocab_size = len(word_index) + 1  # Adding again 1 because of reserved 0 index\n",
    "    embedding_matrix = np.zeros((vocab_size, embedding_dim))\n",
    "\n",
    "    with open(filepath) as f:\n",
    "        for line in f:\n",
    "            word, *vector = line.split()\n",
    "            \n",
    "            if word in word_index:\n",
    "               \n",
    "            \n",
    "                idx = word_index[word] \n",
    "                embedding_matrix[idx] = np.array(\n",
    "                    vector, dtype=np.float32)\n",
    "\n",
    "    return embedding_matrix\n"
   ]
  },
  {
   "cell_type": "code",
   "execution_count": 3,
   "id": "regulated-details",
   "metadata": {},
   "outputs": [],
   "source": [
    "def plot_history(history):\n",
    "    acc = history.history['accuracy']\n",
    "    val_acc = history.history['val_accuracy']\n",
    "    loss = history.history['loss']\n",
    "    val_loss = history.history['val_loss']\n",
    "    x = range(1, len(acc) + 1)\n",
    "\n",
    "    plt.figure(figsize=(12, 5))\n",
    "    plt.subplot(1, 2, 1)\n",
    "    plt.plot(x, acc, 'b', label='Training acc')\n",
    "    plt.plot(x, val_acc, 'r', label='Validation acc')\n",
    "    plt.title('Training and validation accuracy')\n",
    "    plt.legend()\n",
    "    plt.subplot(1, 2, 2)\n",
    "    plt.plot(x, loss, 'b', label='Training loss')\n",
    "    plt.plot(x, val_loss, 'r', label='Validation loss')\n",
    "    plt.title('Training and validation loss')\n",
    "    plt.legend()\n"
   ]
  },
  {
   "cell_type": "code",
   "execution_count": 4,
   "id": "physical-wellington",
   "metadata": {},
   "outputs": [
    {
     "name": "stdout",
     "output_type": "stream",
     "text": [
      "Nombre de message: 40000\n",
      "Les émotions....:\n",
      "      sentiment  compt\n",
      "0        anger    110\n",
      "1      boredom    179\n",
      "2        empty    827\n",
      "3   enthusiasm    759\n",
      "4          fun   1776\n",
      "5    happiness   5209\n",
      "6         hate   1323\n",
      "7         love   3842\n",
      "8      neutral   8638\n",
      "9       relief   1526\n",
      "10     sadness   5165\n",
      "11    surprise   2187\n",
      "12       worry   8459\n",
      "Les auteurs par ordres décroissant du nombre de message postés:\n",
      "                 author  compt\n",
      "7942       MissxMarisa     23\n",
      "2171      ChineseLearn     22\n",
      "7668    MiDesfileNegro     19\n",
      "18330       erkagarcia     19\n",
      "24210         lost_dog     18\n",
      "32187         tsarnick     17\n",
      "6093        KimmiMcfly     15\n",
      "23944      linnetwoods     15\n",
      "3079           Dogbook     14\n",
      "15739      cece_newnew     14\n",
      "26091  mrs_mcsupergirl     14\n",
      "32248       twebbstack     14\n",
      "9312             Quimo     14\n",
      "21495  jesssicababesss     13\n",
      "17396    divxdownloads     13\n",
      "24184     lopezwilfred     12\n",
      "11650     TraceyHewins     12\n",
      "23713        lesley007     12\n",
      "11577           Tittch     11\n",
      "7266      MandyPandy32     11\n",
      "14511      beingnobody     11\n",
      "2393       ComedyQueen     11\n",
      "32704      violetbakes     10\n",
      "2838    DawnofOURnight     10\n",
      "9980           Samm_xo     10\n",
      "3915        Gemmaboyle     10\n",
      "1554    BrandySanDiego     10\n",
      "22742           keza34     10\n",
      "4215    HanaStephenson     10\n",
      "31068     sweetdreamer     10\n"
     ]
    }
   ],
   "source": [
    "# Lecture du fichiern et création de la data frame.\n",
    "#  Nom des colonnes: tweet_id, sentiment, author, content\n",
    "#  Liste des sentiments : 'empty' 'sadness' 'enthusiasm' 'neutral' 'worry' 'surprise' 'love' 'fun'\n",
    "#    'hate' 'happiness' 'boredom' 'relief' 'anger'\n",
    "\n",
    "data_emo2= pds.read_csv('./datas/text_emotion.csv')\n",
    "#data_emo2= pds.read_csv('./datas/text_emotion_02.csv')\n",
    "#, engine= \"python\", encoding='utf-8', error_bad_lines=False) # POUR GOOGLE COLAB SINON ERREUR!\n",
    "\n",
    "print(\"Nombre de message:\",len(data_emo2))\n",
    "\n",
    "df_count_emotion = data_emo2.groupby(['sentiment']).size().reset_index(name='compt')\n",
    "print(\"Les émotions....:\\n\",df_count_emotion)\n",
    "\n",
    "df_count_author = data_emo2.groupby(['author']).size().reset_index(name='compt')\n",
    "#print(df_count_author)\n",
    "print(\"Les auteurs par ordres décroissant du nombre de message postés:\\n\",\n",
    "      df_count_author.sort_values(by= \"compt\", ascending = False).head(30))\n"
   ]
  },
  {
   "cell_type": "code",
   "execution_count": 5,
   "id": "multiple-voluntary",
   "metadata": {},
   "outputs": [],
   "source": [
    "# Tokenisation\n",
    "\n",
    "# Création d'une colonne tokenisée\n",
    "corpus=[]\n",
    "for el in data_emo2.content:\n",
    "    token= word_tokenize(el)\n",
    "    corpus.append(token)\n",
    "data_emo2['token_brut'] = pds.Series(corpus)\n",
    "#print(data_emo2.token_brut.head(10))"
   ]
  },
  {
   "cell_type": "code",
   "execution_count": 6,
   "id": "jewish-battery",
   "metadata": {},
   "outputs": [
    {
     "data": {
      "text/plain": [
       "0        @tiffanylue i know  i was listenin to bad habi...\n",
       "1        Layin n bed with a headache  ughhhh...waitin o...\n",
       "2                      Funeral ceremony...gloomy friday...\n",
       "3                     wants to hang out with friends SOON!\n",
       "4        @dannycastillo We want to trade with someone w...\n",
       "                               ...                        \n",
       "39995                                     @JohnLloydTaylor\n",
       "39996                       Happy Mothers Day  All my love\n",
       "39997    Happy Mother's Day to all the mommies out ther...\n",
       "39998    @niariley WASSUP BEAUTIFUL!!! FOLLOW ME!!  PEE...\n",
       "39999    @mopedronin bullet train from tokyo    the gf ...\n",
       "Name: content, Length: 40000, dtype: object"
      ]
     },
     "execution_count": 6,
     "metadata": {},
     "output_type": "execute_result"
    }
   ],
   "source": [
    "data_emo2.content\n",
    "# @tiffanylue à supprimer dans vocabulaire\n",
    "# !! ou !!! ... indication de surprise remplacer tout les   !!, !!! par un condage\n",
    "# rechercher les :) , :-) ,... remplacer par mot codé"
   ]
  },
  {
   "cell_type": "code",
   "execution_count": 7,
   "id": "developmental-float",
   "metadata": {},
   "outputs": [],
   "source": [
    "# Création d'une colonne tokenisée sans stopwords avec ponctuation (important pour les émoticones)\n",
    "stopwords=nltk.corpus.stopwords.words('english')\n",
    "#stopwords.extend(exclude)\n",
    "\n",
    "corpus=[]\n",
    "for el in data_emo2.token_brut:\n",
    "    token=[]\n",
    "    for wd in el:\n",
    "        if wd not in stopwords:\n",
    "            token.append(wd)\n",
    "    corpus.append(token)\n",
    "data_emo2['token_sans_stopwd'] = pds.Series(corpus)\n",
    "\n"
   ]
  },
  {
   "cell_type": "code",
   "execution_count": 8,
   "id": "graduate-memorabilia",
   "metadata": {},
   "outputs": [],
   "source": [
    "# À partir de la cellule précédente on ré-écrit les phrase sans stopword (utilisé par la suite \n",
    "#  avec la vectorisation)\n",
    "\n",
    "corpus= data_emo2['token_sans_stopwd']\n",
    "\n",
    "corpus2=[]\n",
    "for el in corpus:\n",
    "    ligne=''\n",
    "    ligne = ' '.join(el) # Magique! \n",
    "    corpus2.append(ligne)\n",
    "\n",
    "data_emo2['phrase_sans_stopwd'] = pds.Series(corpus2)\n",
    "\n",
    "#print(data_emo2.phrase_sans_stopwd.head(2"
   ]
  },
  {
   "cell_type": "code",
   "execution_count": 9,
   "id": "placed-phase",
   "metadata": {},
   "outputs": [],
   "source": [
    "# Lemantisation et normalisation\n",
    "\n",
    "lemma = WordNetLemmatizer()\n",
    "\n",
    "corpus=[]\n",
    "#print(stopwords)\n",
    "for el in data_emo2.token_sans_stopwd:\n",
    "    token=[]\n",
    "    token=[lemma.lemmatize(word.lower()) for word in el]\n",
    "    corpus.append(token)\n",
    "\n",
    "data_emo2['lemn_normal'] = pds.Series(corpus)\n",
    "\n",
    "#data_emo2.lemn_normal.head(10)"
   ]
  },
  {
   "cell_type": "code",
   "execution_count": 10,
   "id": "visible-arthur",
   "metadata": {},
   "outputs": [
    {
     "data": {
      "text/plain": [
       "'\\nfrom sklearn.feature_extraction.text import TfidfVectorizer\\n\\nchoix= 1\\n\\nif choix== 0:\\n    #vectorisation_cv = CountVectorizer(ngram_range=(1, 2))\\n    vectorisation_cv = CountVectorizer()\\n\\n    cv= vectorisation_cv.fit_transform(data_emo2.phrase_sans_stopwd)\\n    feature_names = vectorisation_cv.get_feature_names() # dictionnaire des mots utilisés\\n    #print(feature_names[:1000])\\n\\nelif choix== 1:\\n    vectorisation_cv= tfidf_vectorizer = TfidfVectorizer()\\n    cv= vectorisation_cv.fit_transform(data_emo2.phrase_sans_stopwd)\\n    feature_names = vectorisation_cv.get_feature_names() # dictionnaire des mots utilisés\\n    #print(feature_names[:1000])\\n\\nX_train, X_test, y_train, y_test = train_test_split(cv, data_emo2.sentiment, test_size = 0.3,random_state=42)\\n\\nprint(X_train)\\n'"
      ]
     },
     "execution_count": 10,
     "metadata": {},
     "output_type": "execute_result"
    }
   ],
   "source": [
    "\"\"\"\n",
    "from sklearn.feature_extraction.text import TfidfVectorizer\n",
    "\n",
    "choix= 1\n",
    "\n",
    "if choix== 0:\n",
    "    #vectorisation_cv = CountVectorizer(ngram_range=(1, 2))\n",
    "    vectorisation_cv = CountVectorizer()\n",
    "\n",
    "    cv= vectorisation_cv.fit_transform(data_emo2.phrase_sans_stopwd)\n",
    "    feature_names = vectorisation_cv.get_feature_names() # dictionnaire des mots utilisés\n",
    "    #print(feature_names[:1000])\n",
    "\n",
    "elif choix== 1:\n",
    "    vectorisation_cv= tfidf_vectorizer = TfidfVectorizer()\n",
    "    cv= vectorisation_cv.fit_transform(data_emo2.phrase_sans_stopwd)\n",
    "    feature_names = vectorisation_cv.get_feature_names() # dictionnaire des mots utilisés\n",
    "    #print(feature_names[:1000])\n",
    "\n",
    "X_train, X_test, y_train, y_test = train_test_split(cv, data_emo2.sentiment, test_size = 0.3,random_state=42)\n",
    "\n",
    "print(X_train)\n",
    "\"\"\""
   ]
  },
  {
   "cell_type": "code",
   "execution_count": null,
   "id": "hungry-portable",
   "metadata": {},
   "outputs": [],
   "source": []
  },
  {
   "cell_type": "code",
   "execution_count": 14,
   "id": "handed-europe",
   "metadata": {},
   "outputs": [
    {
     "name": "stdout",
     "output_type": "stream",
     "text": [
      "[2, 119, 43, 68, 79, 105, 68, 171, 104]\n",
      "[18, 3127, 538, 501, 3171, 353, 3171, 3046, 26, 11, 42, 435, 7, 103, 1786, 14, 101, 71, 51, 1]\n",
      "45994\n"
     ]
    }
   ],
   "source": [
    "\n",
    "X_train, X_test, y_train, y_test = train_test_split(data_emo2.token_brut, data_emo2.sentiment, test_size = 0.3,random_state=42)\n",
    "\n",
    "\n",
    "num_words= 5000\n",
    "tokenizer = Tokenizer(num_words= num_words, lower= False, filters= '')\n",
    "tokenizer.fit_on_texts(X_train)\n",
    "\n",
    "X_train_token = tokenizer.texts_to_sequences(X_train)\n",
    "X_test_token = tokenizer.texts_to_sequences(X_test)\n",
    "\n",
    "vocab_size = len(tokenizer.word_index) + 1  # Adding 1 because of reserved 0 index\n",
    "\n",
    "print(X_train_token[2])\n",
    "print(X_test_token[2])\n",
    "print(vocab_size)"
   ]
  },
  {
   "cell_type": "code",
   "execution_count": 15,
   "id": "aware-future",
   "metadata": {},
   "outputs": [],
   "source": [
    "\n",
    "maxlen= max(data_emo2.content.apply(str.split).apply(len)) # 100\n",
    "\n",
    "X_train_ps = pad_sequences(X_train_token, padding='post', maxlen=maxlen)\n",
    "X_test_ps = pad_sequences(X_test_token, padding='post', maxlen=maxlen)"
   ]
  },
  {
   "cell_type": "code",
   "execution_count": 16,
   "id": "pointed-terrain",
   "metadata": {},
   "outputs": [
    {
     "data": {
      "text/plain": [
       "(28000, 34)"
      ]
     },
     "execution_count": 16,
     "metadata": {},
     "output_type": "execute_result"
    }
   ],
   "source": [
    "X_train_ps.shape"
   ]
  },
  {
   "cell_type": "code",
   "execution_count": 17,
   "id": "stainless-paradise",
   "metadata": {},
   "outputs": [
    {
     "name": "stdout",
     "output_type": "stream",
     "text": [
      "Model: \"sequential\"\n",
      "_________________________________________________________________\n",
      "Layer (type)                 Output Shape              Param #   \n",
      "=================================================================\n",
      "embedding (Embedding)        (None, 34, 50)            2299700   \n",
      "_________________________________________________________________\n",
      "global_max_pooling1d (Global (None, 50)                0         \n",
      "_________________________________________________________________\n",
      "dense (Dense)                (None, 10)                510       \n",
      "_________________________________________________________________\n",
      "dropout (Dropout)            (None, 10)                0         \n",
      "_________________________________________________________________\n",
      "dense_1 (Dense)              (None, 100)               1100      \n",
      "_________________________________________________________________\n",
      "dense_2 (Dense)              (None, 13)                1313      \n",
      "=================================================================\n",
      "Total params: 2,302,623\n",
      "Trainable params: 2,302,623\n",
      "Non-trainable params: 0\n",
      "_________________________________________________________________\n"
     ]
    }
   ],
   "source": [
    "\n",
    "embedding_dim = 50\n",
    "\n",
    "model = Sequential()\n",
    "model.add(layers.Embedding(input_dim=vocab_size, \n",
    "                           output_dim=embedding_dim, \n",
    "                           input_length=maxlen))\n",
    "model.add(layers.GlobalMaxPool1D())\n",
    "model.add(layers.Dense(10, activation='relu'))\n",
    "model.add(layers.Dropout(0.1))\n",
    "model.add(layers.Dense(100, activation='relu'))\n",
    "model.add(layers.Dense(13, activation='softmax'))\n",
    "model.compile(optimizer='adam',\n",
    "              loss='sparse_categorical_crossentropy',\n",
    "              metrics=['accuracy'])\n",
    "model.summary()\n"
   ]
  },
  {
   "cell_type": "code",
   "execution_count": 18,
   "id": "british-right",
   "metadata": {},
   "outputs": [],
   "source": [
    "\n",
    "encoder = LabelEncoder()\n",
    "y_train = encoder.fit_transform(y_train)\n",
    "y_test = encoder.fit_transform(y_test)"
   ]
  },
  {
   "cell_type": "code",
   "execution_count": 19,
   "id": "bound-magnitude",
   "metadata": {},
   "outputs": [
    {
     "name": "stdout",
     "output_type": "stream",
     "text": [
      "Epoch 1/15\n",
      "56/56 [==============================] - 2s 33ms/step - loss: 2.4823 - accuracy: 0.1620 - val_loss: 2.1768 - val_accuracy: 0.2183\n",
      "Epoch 2/15\n",
      "56/56 [==============================] - 2s 31ms/step - loss: 2.1645 - accuracy: 0.2294 - val_loss: 2.1351 - val_accuracy: 0.2666\n",
      "Epoch 3/15\n",
      "56/56 [==============================] - 2s 35ms/step - loss: 2.1149 - accuracy: 0.2638 - val_loss: 2.0673 - val_accuracy: 0.2970\n",
      "Epoch 4/15\n",
      "56/56 [==============================] - 2s 31ms/step - loss: 2.0169 - accuracy: 0.3177 - val_loss: 1.9771 - val_accuracy: 0.3300\n",
      "Epoch 5/15\n",
      "56/56 [==============================] - 2s 31ms/step - loss: 1.8898 - accuracy: 0.3614 - val_loss: 1.9393 - val_accuracy: 0.3399\n",
      "Epoch 6/15\n",
      "56/56 [==============================] - 2s 31ms/step - loss: 1.8169 - accuracy: 0.3856 - val_loss: 1.9361 - val_accuracy: 0.3345\n",
      "Epoch 7/15\n",
      "56/56 [==============================] - 2s 32ms/step - loss: 1.7456 - accuracy: 0.4062 - val_loss: 1.9461 - val_accuracy: 0.3380\n",
      "Epoch 8/15\n",
      "56/56 [==============================] - 2s 31ms/step - loss: 1.6700 - accuracy: 0.4373 - val_loss: 1.9702 - val_accuracy: 0.3357\n",
      "Epoch 9/15\n",
      "56/56 [==============================] - 2s 32ms/step - loss: 1.6159 - accuracy: 0.4560 - val_loss: 2.0070 - val_accuracy: 0.3277\n",
      "Epoch 10/15\n",
      "56/56 [==============================] - 2s 33ms/step - loss: 1.5441 - accuracy: 0.4776 - val_loss: 2.0500 - val_accuracy: 0.3223\n",
      "Epoch 11/15\n",
      "56/56 [==============================] - 2s 32ms/step - loss: 1.4797 - accuracy: 0.4976 - val_loss: 2.1058 - val_accuracy: 0.3172\n",
      "Epoch 12/15\n",
      "56/56 [==============================] - 2s 32ms/step - loss: 1.4213 - accuracy: 0.5214 - val_loss: 2.1623 - val_accuracy: 0.3141\n",
      "Epoch 13/15\n",
      "56/56 [==============================] - 2s 33ms/step - loss: 1.3577 - accuracy: 0.5396 - val_loss: 2.2377 - val_accuracy: 0.3120\n",
      "Epoch 14/15\n",
      "56/56 [==============================] - 2s 33ms/step - loss: 1.3051 - accuracy: 0.5577 - val_loss: 2.3019 - val_accuracy: 0.3106\n",
      "Epoch 15/15\n",
      "56/56 [==============================] - 2s 32ms/step - loss: 1.2617 - accuracy: 0.5741 - val_loss: 2.3894 - val_accuracy: 0.3058\n",
      "Training Accuracy: 0.6368\n",
      "Testing Accuracy:  0.3058\n"
     ]
    }
   ],
   "source": [
    "history = model.fit(X_train_ps, y_train,\n",
    "                    epochs=15,\n",
    "                    verbose= True,\n",
    "                    validation_data=(X_test_ps, y_test),\n",
    "                    batch_size=500)\n",
    "loss, accuracy = model.evaluate(X_train_ps, y_train, verbose=False)\n",
    "print(\"Training Accuracy: {:.4f}\".format(accuracy))\n",
    "loss, accuracy = model.evaluate(X_test_ps, y_test, verbose=False)\n",
    "print(\"Testing Accuracy:  {:.4f}\".format(accuracy))\n"
   ]
  },
  {
   "cell_type": "raw",
   "id": "cross-journey",
   "metadata": {
    "jupyter": {
     "source_hidden": true
    }
   },
   "source": [
    "batch 10000\n",
    "Epoch 1/100\n",
    "3/3 [==============================] - 1s 325ms/step - loss: 2.3482 - accuracy: 0.1360 - val_loss: 2.3283 - val_accuracy: 0.1321\n",
    "Epoch 2/100\n",
    "3/3 [==============================] - 1s 275ms/step - loss: 2.3153 - accuracy: 0.1461 - val_loss: 2.2955 - val_accuracy: 0.1998\n",
    "Epoch 3/100\n",
    "3/3 [==============================] - 1s 244ms/step - loss: 2.2824 - accuracy: 0.1971 - val_loss: 2.2637 - val_accuracy: 0.2084\n",
    "Epoch 4/100\n",
    "3/3 [==============================] - 1s 240ms/step - loss: 2.2510 - accuracy: 0.2078 - val_loss: 2.2344 - val_accuracy: 0.2084\n",
    "Epoch 5/100\n",
    "3/3 [==============================] - 1s 224ms/step - loss: 2.2225 - accuracy: 0.2131 - val_loss: 2.2094 - val_accuracy: 0.2084\n",
    "Epoch 6/100\n",
    "3/3 [==============================] - 1s 237ms/step - loss: 2.1991 - accuracy: 0.2141 - val_loss: 2.1907 - val_accuracy: 0.2087\n",
    "Epoch 7/100\n",
    "3/3 [==============================] - 1s 234ms/step - loss: 2.1824 - accuracy: 0.2175 - val_loss: 2.1789 - val_accuracy: 0.2093\n",
    "Epoch 8/100\n",
    "3/3 [==============================] - 1s 228ms/step - loss: 2.1715 - accuracy: 0.2184 - val_loss: 2.1724 - val_accuracy: 0.2164\n",
    "Epoch 9/100\n",
    "3/3 [==============================] - 1s 223ms/step - loss: 2.1645 - accuracy: 0.2324 - val_loss: 2.1684 - val_accuracy: 0.2520\n",
    "Epoch 10/100\n",
    "3/3 [==============================] - 1s 245ms/step - loss: 2.1597 - accuracy: 0.2631 - val_loss: 2.1641 - val_accuracy: 0.2587\n",
    "Epoch 11/100\n",
    "3/3 [==============================] - 1s 263ms/step - loss: 2.1540 - accuracy: 0.2526 - val_loss: 2.1591 - val_accuracy: 0.2298\n",
    "Epoch 12/100\n",
    "3/3 [==============================] - 1s 239ms/step - loss: 2.1478 - accuracy: 0.2374 - val_loss: 2.1541 - val_accuracy: 0.2311\n",
    "Epoch 13/100\n",
    "3/3 [==============================] - 1s 224ms/step - loss: 2.1418 - accuracy: 0.2421 - val_loss: 2.1499 - val_accuracy: 0.2515\n",
    "Epoch 14/100\n",
    "3/3 [==============================] - 1s 230ms/step - loss: 2.1354 - accuracy: 0.2682 - val_loss: 2.1469 - val_accuracy: 0.2717\n",
    "Epoch 15/100\n",
    "3/3 [==============================] - 1s 265ms/step - loss: 2.1317 - accuracy: 0.2806 - val_loss: 2.1444 - val_accuracy: 0.2752\n",
    "Epoch 16/100\n",
    "3/3 [==============================] - 1s 223ms/step - loss: 2.1284 - accuracy: 0.2806 - val_loss: 2.1418 - val_accuracy: 0.2722\n",
    "Epoch 17/100\n",
    "3/3 [==============================] - 1s 220ms/step - loss: 2.1222 - accuracy: 0.2817 - val_loss: 2.1388 - val_accuracy: 0.2718\n",
    "Epoch 18/100\n",
    "3/3 [==============================] - 1s 250ms/step - loss: 2.1178 - accuracy: 0.2814 - val_loss: 2.1355 - val_accuracy: 0.2751\n",
    "Epoch 19/100\n",
    "3/3 [==============================] - 1s 206ms/step - loss: 2.1136 - accuracy: 0.2847 - val_loss: 2.1321 - val_accuracy: 0.2755\n",
    "Epoch 20/100\n",
    "3/3 [==============================] - 1s 228ms/step - loss: 2.1071 - accuracy: 0.2891 - val_loss: 2.1286 - val_accuracy: 0.2763\n",
    "Epoch 21/100\n",
    "3/3 [==============================] - 1s 234ms/step - loss: 2.1013 - accuracy: 0.2898 - val_loss: 2.1247 - val_accuracy: 0.2760\n",
    "Epoch 22/100\n",
    "3/3 [==============================] - 1s 239ms/step - loss: 2.0949 - accuracy: 0.2957 - val_loss: 2.1202 - val_accuracy: 0.2776\n",
    "Epoch 23/100\n",
    "3/3 [==============================] - 1s 243ms/step - loss: 2.0863 - accuracy: 0.2984 - val_loss: 2.1152 - val_accuracy: 0.2780\n",
    "Epoch 24/100\n",
    "3/3 [==============================] - 1s 286ms/step - loss: 2.0785 - accuracy: 0.2974 - val_loss: 2.1097 - val_accuracy: 0.2790\n",
    "Epoch 25/100\n",
    "3/3 [==============================] - 1s 264ms/step - loss: 2.0688 - accuracy: 0.2996 - val_loss: 2.1040 - val_accuracy: 0.2783\n",
    "Epoch 26/100\n",
    "3/3 [==============================] - 1s 238ms/step - loss: 2.0589 - accuracy: 0.3057 - val_loss: 2.0980 - val_accuracy: 0.2788\n",
    "Epoch 27/100\n",
    "3/3 [==============================] - 1s 228ms/step - loss: 2.0476 - accuracy: 0.3069 - val_loss: 2.0917 - val_accuracy: 0.2788\n",
    "Epoch 28/100\n",
    "3/3 [==============================] - 1s 232ms/step - loss: 2.0354 - accuracy: 0.3114 - val_loss: 2.0852 - val_accuracy: 0.2788\n",
    "Epoch 29/100\n",
    "3/3 [==============================] - 1s 238ms/step - loss: 2.0222 - accuracy: 0.3114 - val_loss: 2.0785 - val_accuracy: 0.2797\n",
    "Epoch 30/100\n",
    "3/3 [==============================] - 1s 213ms/step - loss: 2.0074 - accuracy: 0.3162 - val_loss: 2.0718 - val_accuracy: 0.2800\n",
    "Epoch 31/100\n",
    "3/3 [==============================] - 1s 229ms/step - loss: 1.9949 - accuracy: 0.3183 - val_loss: 2.0654 - val_accuracy: 0.2808\n",
    "Epoch 32/100\n",
    "3/3 [==============================] - 1s 277ms/step - loss: 1.9791 - accuracy: 0.3207 - val_loss: 2.0593 - val_accuracy: 0.2807\n",
    "Epoch 33/100\n",
    "3/3 [==============================] - 1s 247ms/step - loss: 1.9645 - accuracy: 0.3235 - val_loss: 2.0537 - val_accuracy: 0.2807\n",
    "Epoch 34/100\n",
    "3/3 [==============================] - 1s 280ms/step - loss: 1.9498 - accuracy: 0.3253 - val_loss: 2.0482 - val_accuracy: 0.2812\n",
    "Epoch 35/100\n",
    "3/3 [==============================] - 1s 238ms/step - loss: 1.9339 - accuracy: 0.3297 - val_loss: 2.0428 - val_accuracy: 0.2816\n",
    "Epoch 36/100\n",
    "3/3 [==============================] - 1s 250ms/step - loss: 1.9170 - accuracy: 0.3333 - val_loss: 2.0376 - val_accuracy: 0.2829\n",
    "Epoch 37/100\n",
    "3/3 [==============================] - 1s 244ms/step - loss: 1.9010 - accuracy: 0.3407 - val_loss: 2.0323 - val_accuracy: 0.2861\n",
    "Epoch 38/100\n",
    "3/3 [==============================] - 1s 232ms/step - loss: 1.8849 - accuracy: 0.3463 - val_loss: 2.0271 - val_accuracy: 0.2903\n",
    "Epoch 39/100\n",
    "3/3 [==============================] - 1s 243ms/step - loss: 1.8669 - accuracy: 0.3537 - val_loss: 2.0220 - val_accuracy: 0.2943\n",
    "Epoch 40/100\n",
    "3/3 [==============================] - 1s 234ms/step - loss: 1.8507 - accuracy: 0.3645 - val_loss: 2.0170 - val_accuracy: 0.2975\n",
    "Epoch 41/100\n",
    "3/3 [==============================] - 1s 235ms/step - loss: 1.8330 - accuracy: 0.3736 - val_loss: 2.0121 - val_accuracy: 0.3002\n",
    "Epoch 42/100\n",
    "3/3 [==============================] - 1s 368ms/step - loss: 1.8107 - accuracy: 0.3844 - val_loss: 2.0075 - val_accuracy: 0.3029\n",
    "Epoch 43/100\n",
    "3/3 [==============================] - 1s 298ms/step - loss: 1.7948 - accuracy: 0.3914 - val_loss: 2.0034 - val_accuracy: 0.3095\n",
    "Epoch 44/100\n",
    "3/3 [==============================] - 1s 243ms/step - loss: 1.7761 - accuracy: 0.3984 - val_loss: 1.9998 - val_accuracy: 0.3141\n",
    "Epoch 45/100\n",
    "3/3 [==============================] - 1s 249ms/step - loss: 1.7555 - accuracy: 0.4096 - val_loss: 1.9969 - val_accuracy: 0.3176\n",
    "Epoch 46/100\n",
    "3/3 [==============================] - 1s 310ms/step - loss: 1.7398 - accuracy: 0.4167 - val_loss: 1.9948 - val_accuracy: 0.3220\n",
    "Epoch 47/100\n",
    "3/3 [==============================] - 1s 259ms/step - loss: 1.7251 - accuracy: 0.4251 - val_loss: 1.9932 - val_accuracy: 0.3239\n",
    "Epoch 48/100\n",
    "3/3 [==============================] - 1s 240ms/step - loss: 1.7038 - accuracy: 0.4324 - val_loss: 1.9928 - val_accuracy: 0.3259\n",
    "Epoch 49/100\n",
    "3/3 [==============================] - 1s 284ms/step - loss: 1.6873 - accuracy: 0.4387 - val_loss: 1.9933 - val_accuracy: 0.3273\n",
    "Epoch 50/100\n",
    "3/3 [==============================] - 1s 258ms/step - loss: 1.6738 - accuracy: 0.4440 - val_loss: 1.9948 - val_accuracy: 0.3277\n",
    "Epoch 51/100\n",
    "3/3 [==============================] - 1s 298ms/step - loss: 1.6590 - accuracy: 0.4455 - val_loss: 1.9968 - val_accuracy: 0.3289\n",
    "Epoch 52/100\n",
    "3/3 [==============================] - 1s 283ms/step - loss: 1.6385 - accuracy: 0.4531 - val_loss: 1.9995 - val_accuracy: 0.3298\n",
    "Epoch 53/100\n",
    "3/3 [==============================] - 1s 283ms/step - loss: 1.6235 - accuracy: 0.4592 - val_loss: 2.0028 - val_accuracy: 0.3293\n",
    "Epoch 54/100\n",
    "3/3 [==============================] - 1s 263ms/step - loss: 1.6071 - accuracy: 0.4669 - val_loss: 2.0071 - val_accuracy: 0.3302\n",
    "Epoch 55/100\n",
    "3/3 [==============================] - 1s 280ms/step - loss: 1.5923 - accuracy: 0.4686 - val_loss: 2.0121 - val_accuracy: 0.3300\n",
    "Epoch 56/100\n",
    "3/3 [==============================] - 1s 289ms/step - loss: 1.5770 - accuracy: 0.4763 - val_loss: 2.0176 - val_accuracy: 0.3296\n",
    "Epoch 57/100\n",
    "3/3 [==============================] - 1s 237ms/step - loss: 1.5614 - accuracy: 0.4814 - val_loss: 2.0240 - val_accuracy: 0.3282\n",
    "Epoch 58/100\n",
    "3/3 [==============================] - 1s 240ms/step - loss: 1.5478 - accuracy: 0.4873 - val_loss: 2.0306 - val_accuracy: 0.3277\n",
    "Epoch 59/100\n",
    "3/3 [==============================] - 1s 256ms/step - loss: 1.5304 - accuracy: 0.4918 - val_loss: 2.0377 - val_accuracy: 0.3256\n",
    "Epoch 60/100\n",
    "3/3 [==============================] - 1s 228ms/step - loss: 1.5125 - accuracy: 0.4974 - val_loss: 2.0459 - val_accuracy: 0.3255\n",
    "Epoch 61/100\n",
    "3/3 [==============================] - 1s 237ms/step - loss: 1.5003 - accuracy: 0.5030 - val_loss: 2.0546 - val_accuracy: 0.3247\n",
    "Epoch 62/100\n",
    "3/3 [==============================] - 1s 334ms/step - loss: 1.4839 - accuracy: 0.5082 - val_loss: 2.0635 - val_accuracy: 0.3233\n",
    "Epoch 63/100\n",
    "3/3 [==============================] - 1s 317ms/step - loss: 1.4686 - accuracy: 0.5148 - val_loss: 2.0733 - val_accuracy: 0.3223\n",
    "Epoch 64/100\n",
    "3/3 [==============================] - 1s 299ms/step - loss: 1.4526 - accuracy: 0.5188 - val_loss: 2.0839 - val_accuracy: 0.3223\n",
    "Epoch 65/100\n",
    "3/3 [==============================] - 1s 266ms/step - loss: 1.4389 - accuracy: 0.5229 - val_loss: 2.0947 - val_accuracy: 0.3219\n",
    "Epoch 66/100\n",
    "3/3 [==============================] - 1s 299ms/step - loss: 1.4253 - accuracy: 0.5254 - val_loss: 2.1050 - val_accuracy: 0.3205\n",
    "Epoch 67/100\n",
    "3/3 [==============================] - 1s 229ms/step - loss: 1.4071 - accuracy: 0.5353 - val_loss: 2.1155 - val_accuracy: 0.3187\n",
    "Epoch 68/100\n",
    "3/3 [==============================] - 1s 245ms/step - loss: 1.3942 - accuracy: 0.5395 - val_loss: 2.1277 - val_accuracy: 0.3179\n",
    "Epoch 69/100\n",
    "3/3 [==============================] - 1s 246ms/step - loss: 1.3798 - accuracy: 0.5420 - val_loss: 2.1407 - val_accuracy: 0.3178\n",
    "Epoch 70/100\n",
    "3/3 [==============================] - 1s 264ms/step - loss: 1.3607 - accuracy: 0.5516 - val_loss: 2.1530 - val_accuracy: 0.3161\n",
    "Epoch 71/100\n",
    "3/3 [==============================] - 1s 265ms/step - loss: 1.3481 - accuracy: 0.5536 - val_loss: 2.1656 - val_accuracy: 0.3147\n",
    "Epoch 72/100\n",
    "3/3 [==============================] - 1s 246ms/step - loss: 1.3356 - accuracy: 0.5581 - val_loss: 2.1792 - val_accuracy: 0.3133\n",
    "Epoch 73/100\n",
    "3/3 [==============================] - 1s 244ms/step - loss: 1.3207 - accuracy: 0.5649 - val_loss: 2.1935 - val_accuracy: 0.3131\n",
    "Epoch 74/100\n",
    "3/3 [==============================] - 1s 251ms/step - loss: 1.3055 - accuracy: 0.5675 - val_loss: 2.2079 - val_accuracy: 0.3121\n",
    "Epoch 75/100\n",
    "3/3 [==============================] - 1s 239ms/step - loss: 1.2892 - accuracy: 0.5757 - val_loss: 2.2225 - val_accuracy: 0.3108\n",
    "Epoch 76/100\n",
    "3/3 [==============================] - 1s 250ms/step - loss: 1.2780 - accuracy: 0.5812 - val_loss: 2.2385 - val_accuracy: 0.3105\n",
    "Epoch 77/100\n",
    "3/3 [==============================] - 1s 226ms/step - loss: 1.2617 - accuracy: 0.5869 - val_loss: 2.2549 - val_accuracy: 0.3101\n",
    "Epoch 78/100\n",
    "3/3 [==============================] - 1s 231ms/step - loss: 1.2506 - accuracy: 0.5888 - val_loss: 2.2704 - val_accuracy: 0.3078\n",
    "Epoch 79/100\n",
    "3/3 [==============================] - 1s 236ms/step - loss: 1.2361 - accuracy: 0.5925 - val_loss: 2.2875 - val_accuracy: 0.3076\n",
    "Epoch 80/100\n",
    "3/3 [==============================] - 1s 225ms/step - loss: 1.2194 - accuracy: 0.6005 - val_loss: 2.3042 - val_accuracy: 0.3064\n",
    "Epoch 81/100\n",
    "3/3 [==============================] - 1s 239ms/step - loss: 1.2076 - accuracy: 0.6050 - val_loss: 2.3214 - val_accuracy: 0.3058\n",
    "Epoch 82/100\n",
    "3/3 [==============================] - 1s 225ms/step - loss: 1.1874 - accuracy: 0.6084 - val_loss: 2.3394 - val_accuracy: 0.3050\n",
    "Epoch 83/100\n",
    "3/3 [==============================] - 1s 237ms/step - loss: 1.1789 - accuracy: 0.6169 - val_loss: 2.3577 - val_accuracy: 0.3038\n",
    "Epoch 84/100\n",
    "3/3 [==============================] - 1s 299ms/step - loss: 1.1630 - accuracy: 0.6200 - val_loss: 2.3771 - val_accuracy: 0.3034\n",
    "Epoch 85/100\n",
    "3/3 [==============================] - 1s 255ms/step - loss: 1.1489 - accuracy: 0.6257 - val_loss: 2.3973 - val_accuracy: 0.3018\n",
    "Epoch 86/100\n",
    "3/3 [==============================] - 1s 254ms/step - loss: 1.1370 - accuracy: 0.6300 - val_loss: 2.4169 - val_accuracy: 0.3007\n",
    "Epoch 87/100\n",
    "3/3 [==============================] - 1s 254ms/step - loss: 1.1256 - accuracy: 0.6341 - val_loss: 2.4354 - val_accuracy: 0.2994\n",
    "Epoch 88/100\n",
    "3/3 [==============================] - 1s 280ms/step - loss: 1.1099 - accuracy: 0.6401 - val_loss: 2.4552 - val_accuracy: 0.2993\n",
    "Epoch 89/100\n",
    "3/3 [==============================] - 1s 222ms/step - loss: 1.0972 - accuracy: 0.6447 - val_loss: 2.4752 - val_accuracy: 0.2973\n",
    "Epoch 90/100\n",
    "3/3 [==============================] - 1s 237ms/step - loss: 1.0846 - accuracy: 0.6508 - val_loss: 2.4959 - val_accuracy: 0.2966\n",
    "Epoch 91/100\n",
    "3/3 [==============================] - 1s 240ms/step - loss: 1.0709 - accuracy: 0.6513 - val_loss: 2.5186 - val_accuracy: 0.2948\n",
    "Epoch 92/100\n",
    "3/3 [==============================] - 1s 228ms/step - loss: 1.0586 - accuracy: 0.6571 - val_loss: 2.5394 - val_accuracy: 0.2948\n",
    "Epoch 93/100\n",
    "3/3 [==============================] - 1s 241ms/step - loss: 1.0453 - accuracy: 0.6630 - val_loss: 2.5609 - val_accuracy: 0.2952\n",
    "Epoch 94/100\n",
    "3/3 [==============================] - 1s 239ms/step - loss: 1.0345 - accuracy: 0.6662 - val_loss: 2.5842 - val_accuracy: 0.2952\n",
    "Epoch 95/100\n",
    "3/3 [==============================] - 1s 241ms/step - loss: 1.0236 - accuracy: 0.6696 - val_loss: 2.6071 - val_accuracy: 0.2952\n",
    "Epoch 96/100\n",
    "3/3 [==============================] - 1s 248ms/step - loss: 1.0097 - accuracy: 0.6749 - val_loss: 2.6305 - val_accuracy: 0.2944\n",
    "Epoch 97/100\n",
    "3/3 [==============================] - 1s 239ms/step - loss: 1.0007 - accuracy: 0.6808 - val_loss: 2.6538 - val_accuracy: 0.2932\n",
    "Epoch 98/100\n",
    "3/3 [==============================] - 1s 230ms/step - loss: 0.9857 - accuracy: 0.6852 - val_loss: 2.6787 - val_accuracy: 0.2932\n",
    "Epoch 99/100\n",
    "3/3 [==============================] - 1s 232ms/step - loss: 0.9793 - accuracy: 0.6871 - val_loss: 2.7012 - val_accuracy: 0.2923\n",
    "Epoch 100/100\n",
    "3/3 [==============================] - 1s 231ms/step - loss: 0.9627 - accuracy: 0.6908 - val_loss: 2.7261 - val_accuracy: 0.2919\n",
    "Training Accuracy: 0.7435\n",
    "Testing Accuracy:  0.2919\n",
    "\n",
    "\n",
    "batch size 1000\n",
    "Epoch 1/10\n",
    "28/28 [==============================] - 2s 62ms/step - loss: 2.5469 - accuracy: 0.1420 - val_loss: 2.4308 - val_accuracy: 0.2113\n",
    "Epoch 2/10\n",
    "28/28 [==============================] - 1s 53ms/step - loss: 2.3526 - accuracy: 0.2201 - val_loss: 2.1881 - val_accuracy: 0.2178\n",
    "Epoch 3/10\n",
    "28/28 [==============================] - 1s 50ms/step - loss: 2.1687 - accuracy: 0.2419 - val_loss: 2.1520 - val_accuracy: 0.2568\n",
    "Epoch 4/10\n",
    "28/28 [==============================] - 1s 49ms/step - loss: 2.1323 - accuracy: 0.2579 - val_loss: 2.1345 - val_accuracy: 0.2702\n",
    "Epoch 5/10\n",
    "28/28 [==============================] - 1s 51ms/step - loss: 2.1226 - accuracy: 0.2675 - val_loss: 2.1037 - val_accuracy: 0.2770\n",
    "Epoch 6/10\n",
    "28/28 [==============================] - 1s 47ms/step - loss: 2.0734 - accuracy: 0.2853 - val_loss: 2.0417 - val_accuracy: 0.2837\n",
    "Epoch 7/10\n",
    "28/28 [==============================] - 1s 52ms/step - loss: 1.9790 - accuracy: 0.3255 - val_loss: 1.9803 - val_accuracy: 0.3110\n",
    "Epoch 8/10\n",
    "28/28 [==============================] - 1s 52ms/step - loss: 1.8861 - accuracy: 0.3595 - val_loss: 1.9577 - val_accuracy: 0.3253\n",
    "Epoch 9/10\n",
    "28/28 [==============================] - 1s 50ms/step - loss: 1.8168 - accuracy: 0.3871 - val_loss: 1.9546 - val_accuracy: 0.3322\n",
    "Epoch 10/10\n",
    "28/28 [==============================] - 1s 49ms/step - loss: 1.7558 - accuracy: 0.4065 - val_loss: 1.9639 - val_accuracy: 0.3286\n",
    "Training Accuracy: 0.4386\n",
    "Testing Accuracy:  0.3286\n",
    "\n",
    "\n",
    "\n",
    "\n",
    "batch size 50\n",
    "Epoch 1/10\n",
    "560/560 [==============================] - 18s 30ms/step - loss: 2.2347 - accuracy: 0.2237 - val_loss: 1.9895 - val_accuracy: 0.3262\n",
    "Epoch 2/10\n",
    "560/560 [==============================] - 17s 31ms/step - loss: 1.9452 - accuracy: 0.3292 - val_loss: 1.9361 - val_accuracy: 0.3346\n",
    "Epoch 3/10\n",
    "560/560 [==============================] - 17s 30ms/step - loss: 1.8309 - accuracy: 0.3713 - val_loss: 1.9291 - val_accuracy: 0.3368\n",
    "Epoch 4/10\n",
    "560/560 [==============================] - 17s 30ms/step - loss: 1.7453 - accuracy: 0.4005 - val_loss: 1.9472 - val_accuracy: 0.3314\n",
    "Epoch 5/10\n",
    "560/560 [==============================] - 17s 30ms/step - loss: 1.6546 - accuracy: 0.4353 - val_loss: 1.9881 - val_accuracy: 0.3349\n",
    "Epoch 6/10\n",
    "560/560 [==============================] - 17s 30ms/step - loss: 1.5684 - accuracy: 0.4591 - val_loss: 2.0593 - val_accuracy: 0.3278\n",
    "Epoch 7/10\n",
    "560/560 [==============================] - 17s 29ms/step - loss: 1.4888 - accuracy: 0.4860 - val_loss: 2.1302 - val_accuracy: 0.3232\n",
    "Epoch 8/10\n",
    "560/560 [==============================] - 17s 30ms/step - loss: 1.3964 - accuracy: 0.5118 - val_loss: 2.2090 - val_accuracy: 0.3161\n",
    "Epoch 9/10\n",
    "560/560 [==============================] - 16s 29ms/step - loss: 1.3198 - accuracy: 0.5371 - val_loss: 2.3276 - val_accuracy: 0.3098\n",
    "Epoch 10/10\n",
    "560/560 [==============================] - 17s 30ms/step - loss: 1.2472 - accuracy: 0.5622 - val_loss: 2.4671 - val_accuracy: 0.3058\n",
    "Training Accuracy: 0.6135\n",
    "Testing Accuracy:  0.3058\n"
   ]
  },
  {
   "cell_type": "code",
   "execution_count": null,
   "id": "likely-insurance",
   "metadata": {},
   "outputs": [],
   "source": []
  },
  {
   "cell_type": "code",
   "execution_count": 20,
   "id": "rotary-conviction",
   "metadata": {},
   "outputs": [
    {
     "data": {
      "image/png": "[encoded data removed]",
      "text/plain": [
       "<Figure size 864x360 with 2 Axes>"
      ]
     },
     "metadata": {
      "needs_background": "light"
     },
     "output_type": "display_data"
    }
   ],
   "source": [
    "plot_history(history)\n"
   ]
  },
  {
   "cell_type": "code",
   "execution_count": 21,
   "id": "jewish-organic",
   "metadata": {},
   "outputs": [
    {
     "name": "stdout",
     "output_type": "stream",
     "text": [
      "120/120 [==============================] - 0s 2ms/step - loss: 2.3894 - accuracy: 0.3058\n",
      "(12000,)\n"
     ]
    }
   ],
   "source": [
    "y_predicted = model.predict(X_test_ps)\n",
    "accuracy = model.evaluate(X_test_ps, y_test, batch_size= 100, verbose= True)\n",
    "print(y_test.shape)"
   ]
  },
  {
   "cell_type": "code",
   "execution_count": 130,
   "id": "fatty-venture",
   "metadata": {},
   "outputs": [
    {
     "name": "stdout",
     "output_type": "stream",
     "text": [
      "12000.0\n",
      "0.9999999\n"
     ]
    }
   ],
   "source": [
    "y_predicted.shape\n",
    "print(y_predicted.sum())\n",
    "print(y_predicted[0].sum())"
   ]
  },
  {
   "cell_type": "code",
   "execution_count": 132,
   "id": "threaded-companion",
   "metadata": {},
   "outputs": [
    {
     "name": "stdout",
     "output_type": "stream",
     "text": [
      "              precision    recall  f1-score   support\n",
      "\n",
      "           0       0.00      0.00      0.00        33\n",
      "           1       0.00      0.00      0.00        57\n",
      "           2       0.00      0.00      0.00       242\n",
      "           3       0.00      0.00      0.00       249\n",
      "           4       0.00      0.00      0.00       513\n",
      "           5       0.27      0.40      0.33      1568\n",
      "           6       0.23      0.15      0.19       383\n",
      "           7       0.32      0.37      0.34      1134\n",
      "           8       0.35      0.42      0.38      2620\n",
      "           9       0.00      0.00      0.00       515\n",
      "          10       0.27      0.29      0.28      1560\n",
      "          11       0.07      0.03      0.04       625\n",
      "          12       0.32      0.40      0.35      2501\n",
      "\n",
      "    accuracy                           0.31     12000\n",
      "   macro avg       0.14      0.16      0.15     12000\n",
      "weighted avg       0.26      0.31      0.28     12000\n",
      "\n"
     ]
    },
    {
     "name": "stderr",
     "output_type": "stream",
     "text": [
      "/home/jpphi/anaconda3/lib/python3.8/site-packages/sklearn/metrics/_classification.py:1245: UndefinedMetricWarning: Precision and F-score are ill-defined and being set to 0.0 in labels with no predicted samples. Use `zero_division` parameter to control this behavior.\n",
      "  _warn_prf(average, modifier, msg_start, len(result))\n",
      "/home/jpphi/anaconda3/lib/python3.8/site-packages/sklearn/metrics/_classification.py:1245: UndefinedMetricWarning: Precision and F-score are ill-defined and being set to 0.0 in labels with no predicted samples. Use `zero_division` parameter to control this behavior.\n",
      "  _warn_prf(average, modifier, msg_start, len(result))\n",
      "/home/jpphi/anaconda3/lib/python3.8/site-packages/sklearn/metrics/_classification.py:1245: UndefinedMetricWarning: Precision and F-score are ill-defined and being set to 0.0 in labels with no predicted samples. Use `zero_division` parameter to control this behavior.\n",
      "  _warn_prf(average, modifier, msg_start, len(result))\n"
     ]
    }
   ],
   "source": [
    "print(classification_report(y_test, y_predicted.argmax(1)))"
   ]
  },
  {
   "cell_type": "code",
   "execution_count": 129,
   "id": "modified-franklin",
   "metadata": {},
   "outputs": [
    {
     "name": "stdout",
     "output_type": "stream",
     "text": [
      "sms: [\"I'm in love with her\"], prediction: love\n",
      "sms: ['He is very bad, I hate him'], prediction: hate\n",
      "sms: [\"It's borring\"], prediction: neutral\n",
      "sms: [\"I hate him :) It's a joke\"], prediction: hate\n",
      "\n",
      " ____________________________________________________________________________________________________\n",
      "1961281804,\"happiness\",\"missvmarie\"\n",
      "sms: [\"@mariamariamaria i'm sorry you aren't feeling too good, mama  I'm heading up today @ 4, i'll be calling you ..\"], prediction: worry\n",
      "\n",
      " ____________________________________________________________________________________________________\n",
      "1961283943,\"happiness\",\"emohoho\"\n",
      "sms: ['Licking chocolate crumbs off a Twirl wrapper like Zammo on smack'], prediction: happiness\n",
      "\n",
      " ____________________________________________________________________________________________________\n",
      "1961281805,\"sadness\",\"bonyay\"\n",
      "sms: [\"Leaving NOLA today  Counting down the seconds 'til I start crying. Love this place so much.\"], prediction: worry\n",
      "\n",
      " ____________________________________________________________________________________________________\n",
      "1961282068  -  happiness  -  georgiamae31\n",
      "sms: ['@AnnaSaccone Seeing my friends and doing coursework  I have the weekend off work so I am happy!'], prediction: happiness\n",
      "\n",
      " ____________________________________________________________________________________________________\n",
      "1961282376  -  anger  -  MRajotte\n",
      "sms: ['Stupid red hair is too difficult on the upkeep. Re-dyed it a more manageable brown-red. Boo'], prediction: worry\n",
      "\n",
      " ____________________________________________________________________________________________________\n",
      "1961282406  -  happiness  -  xSwitchBoardx\n",
      "sms: ['@alliemunchkin :3, Youtube loves my HD videos  well maybe.'], prediction: happiness\n",
      "\n",
      " ____________________________________________________________________________________________________\n",
      "1961282497  -  hate  -  sleepywhale\n",
      "sms: ['@tylerakira - ughhh!!! have to go back there tonight'], prediction: neutral\n",
      "\n",
      " ____________________________________________________________________________________________________\n",
      "1961282930  -  worry  -  simonquick\n",
      "sms: [\"can't wait to get his hands on his new blackberry, this one is dying on me\"], prediction: worry\n",
      "\n",
      " ____________________________________________________________________________________________________\n",
      "1961283058  -  worry  -  vshchen\n",
      "sms: [\"Searching apartments in Kaohsiung. Will go seeing the apartments on next Tuesday. Haven't found a good one with reasonable rent...\"], prediction: worry\n",
      "\n",
      " ____________________________________________________________________________________________________\n",
      "1961283172  -  sadness  -  svonnah\n",
      "sms: [\"@AliceS1 hey, I can't make it to Makers tonight\"], prediction: happiness\n",
      "\n",
      " ____________________________________________________________________________________________________\n",
      "1961284163  -  love  -  LaReinhard\n",
      "sms: ['@ispybeauty philly was soooo fun. im trying to come to sea isle asap. im working alot the next two weeks tho '], prediction: worry\n"
     ]
    }
   ],
   "source": [
    "def prediction(sms, feel=[\"anger\", \"boredom\",\"empty\",\"enthusiasm\",\"fun\",\"happiness\",\"hate\",\"love\",\"neutral\",\"relief\",\"sadness\",\"surprise\",\"worry\"]):\n",
    "    sms_token = tokenizer.texts_to_sequences(sms)\n",
    "    sms_ps = pad_sequences(sms_token, padding='post', maxlen=maxlen)\n",
    "    y_predsms = model.predict(sms_ps)\n",
    "\n",
    "    #print(y_predsms.argmax())\n",
    "\n",
    "    return feel[y_predsms.argmax()]\n",
    "\n",
    "sms= [\"I'm in love with her\"]\n",
    "print(f\"sms: {sms}, prediction: {prediction(sms)}\")\n",
    "\n",
    "sms= [\"He is very bad, I hate him\"]\n",
    "print(f\"sms: {sms}, prediction: {prediction(sms)}\")\n",
    "\n",
    "sms= [\"It's borring\"]\n",
    "print(f\"sms: {sms}, prediction: {prediction(sms)}\")\n",
    "\n",
    "sms= [\"I hate him :) It's a joke\"]\n",
    "print(f\"sms: {sms}, prediction: {prediction(sms)}\")\n",
    "\n",
    "print(\"\\n\",100*\"_\")\n",
    "\n",
    "sms= [\"@mariamariamaria i'm sorry you aren't feeling too good, mama  I'm heading up today @ 4, i'll be calling you ..\"]\n",
    "print('1961281804,\"happiness\",\"missvmarie\"')\n",
    "print(f\"sms: {sms}, prediction: {prediction(sms)}\")\n",
    "\n",
    "print(\"\\n\",100*\"_\")\n",
    "\n",
    "sms= [\"Licking chocolate crumbs off a Twirl wrapper like Zammo on smack\"]\n",
    "print('1961283943,\"happiness\",\"emohoho\"')\n",
    "print(f\"sms: {sms}, prediction: {prediction(sms)}\")\n",
    "\n",
    "print(\"\\n\",100*\"_\")\n",
    "\n",
    "sms= [\"Leaving NOLA today  Counting down the seconds 'til I start crying. Love this place so much.\"]\n",
    "print('1961281805,\"sadness\",\"bonyay\"')\n",
    "print(f\"sms: {sms}, prediction: {prediction(sms)}\")\n",
    "\n",
    "print(\"\\n\",100*\"_\")\n",
    "a=[\"1961282068\",\"happiness\",\"georgiamae31\",\"@AnnaSaccone Seeing my friends and doing coursework  I have the weekend off work so I am happy!\"]\n",
    "print(a[0],\" - \",a[1],\" - \",a[2])\n",
    "sms= [a[3]]\n",
    "print(f\"sms: {sms}, prediction: {prediction(sms)}\")\n",
    "\n",
    "print(\"\\n\",100*\"_\")\n",
    "a=[1961282376,\"anger\",\"MRajotte\",\"Stupid red hair is too difficult on the upkeep. Re-dyed it a more manageable brown-red. Boo\"]\n",
    "print(a[0],\" - \",a[1],\" - \",a[2])\n",
    "sms= [a[3]]\n",
    "print(f\"sms: {sms}, prediction: {prediction(sms)}\")\n",
    "\n",
    "print(\"\\n\",100*\"_\")\n",
    "a=[1961282406,\"happiness\",\"xSwitchBoardx\",\"@alliemunchkin :3, Youtube loves my HD videos  well maybe.\"]\n",
    "print(a[0],\" - \",a[1],\" - \",a[2])\n",
    "sms= [a[3]]\n",
    "print(f\"sms: {sms}, prediction: {prediction(sms)}\")\n",
    "\n",
    "print(\"\\n\",100*\"_\")\n",
    "a=[1961282497,\"hate\",\"sleepywhale\",\"@tylerakira - ughhh!!! have to go back there tonight\"]\n",
    "print(a[0],\" - \",a[1],\" - \",a[2])\n",
    "sms= [a[3]]\n",
    "print(f\"sms: {sms}, prediction: {prediction(sms)}\")\n",
    "\n",
    "print(\"\\n\",100*\"_\")\n",
    "a=[1961282930,\"worry\",\"simonquick\",\"can't wait to get his hands on his new blackberry, this one is dying on me\"]\n",
    "print(a[0],\" - \",a[1],\" - \",a[2])\n",
    "sms= [a[3]]\n",
    "print(f\"sms: {sms}, prediction: {prediction(sms)}\")\n",
    "\n",
    "print(\"\\n\",100*\"_\")\n",
    "a=[1961283058,\"worry\",\"vshchen\",\"Searching apartments in Kaohsiung. Will go seeing the apartments on next Tuesday. Haven't found a good one with reasonable rent...\"]\n",
    "print(a[0],\" - \",a[1],\" - \",a[2])\n",
    "sms= [a[3]]\n",
    "print(f\"sms: {sms}, prediction: {prediction(sms)}\")\n",
    "\n",
    "print(\"\\n\",100*\"_\")\n",
    "a=[1961283172,\"sadness\",\"svonnah\",\"@AliceS1 hey, I can't make it to Makers tonight\"]\n",
    "print(a[0],\" - \",a[1],\" - \",a[2])\n",
    "sms= [a[3]]\n",
    "print(f\"sms: {sms}, prediction: {prediction(sms)}\")\n",
    "\n",
    "print(\"\\n\",100*\"_\")\n",
    "a=[1961284163,\"love\",\"LaReinhard\",\"@ispybeauty philly was soooo fun. im trying to come to sea isle asap. im working alot the next two weeks tho \"]\n",
    "print(a[0],\" - \",a[1],\" - \",a[2])\n",
    "sms= [a[3]]\n",
    "print(f\"sms: {sms}, prediction: {prediction(sms)}\")\n"
   ]
  },
  {
   "cell_type": "code",
   "execution_count": 74,
   "id": "strong-issue",
   "metadata": {},
   "outputs": [
    {
     "data": {
      "text/plain": [
       "list"
      ]
     },
     "execution_count": 74,
     "metadata": {},
     "output_type": "execute_result"
    }
   ],
   "source": [
    "type(a)"
   ]
  },
  {
   "cell_type": "code",
   "execution_count": 49,
   "id": "joint-mississippi",
   "metadata": {},
   "outputs": [
    {
     "name": "stdout",
     "output_type": "stream",
     "text": [
      "(1, 34)\n",
      "\n",
      "sms: [\"It's very sad to ear that, hate\"]\n",
      "\n",
      "sms_token:\n",
      " [[148, 144, 5, 1522, 197]]\n",
      "\n",
      "sms_token array:\n",
      " [[[ 148  144    5 1522  197]]]\n",
      "\n",
      "sms_ps:\n",
      " [[ 148  144    5 1522  197    0    0    0    0    0    0    0    0    0\n",
      "     0    0    0    0    0    0    0    0    0    0    0    0    0    0\n",
      "     0    0    0    0    0    0]]\n"
     ]
    }
   ],
   "source": [
    "\n",
    "#print(ysms.shape)\n",
    "#print(ysms)\n",
    "print(sms_ps.shape)\n",
    "#print(y_predsms.shape)\n",
    "#print(y_predsms[24].sum())\n",
    "#print(\"\\ny_predsms:\\n\",y_predsms)\n",
    "print(\"\\nsms:\",sms)\n",
    "#print(\"\\nsmstok:\",smstok)\n",
    "print(\"\\nsms_token:\\n\",sms_token)\n",
    "print(\"\\nsms_token array:\\n\",np.array([sms_token]))\n",
    "print(\"\\nsms_ps:\\n\",sms_ps)\n"
   ]
  },
  {
   "cell_type": "code",
   "execution_count": 47,
   "id": "promising-slide",
   "metadata": {},
   "outputs": [
    {
     "data": {
      "text/plain": [
       "array([  15,    4,   54, 2157,   57,   15,   10, 1328,   95,   54,   42,\n",
       "        305,   46,    3,   81,   35,    8, 1725,  280,    1,    1,    0,\n",
       "          0,    0,    0,    0,    0,    0,    0,    0,    0,    0,    0,\n",
       "          0], dtype=int32)"
      ]
     },
     "execution_count": 47,
     "metadata": {},
     "output_type": "execute_result"
    }
   ],
   "source": [
    "X_test_ps[5]"
   ]
  },
  {
   "cell_type": "code",
   "execution_count": 226,
   "id": "beneficial-metallic",
   "metadata": {},
   "outputs": [],
   "source": []
  },
  {
   "cell_type": "markdown",
   "id": "stuck-dealing",
   "metadata": {},
   "source": [
    "## Chargement d'un modèle pré-entrainé"
   ]
  },
  {
   "cell_type": "code",
   "execution_count": 20,
   "id": "inclusive-connection",
   "metadata": {},
   "outputs": [
    {
     "name": "stdout",
     "output_type": "stream",
     "text": [
      "[2, 62, 16, 32, 32]\n",
      "[2476, 434, 417, 2380, 237, 2380, 2743, 361, 53, 1833, 6, 35, 19, 1]\n"
     ]
    }
   ],
   "source": [
    "\n",
    "\n",
    "X_train, X_test, y_train, y_test = train_test_split(data_emo2.phrase_sans_stopwd, data_emo2.sentiment, test_size = 0.3,random_state=42)\n",
    "\n",
    "\n",
    "\n",
    "tokenizer = Tokenizer(num_words=5000, lower= False, filters= '')\n",
    "tokenizer.fit_on_texts(data_emo2.phrase_sans_stopwd)\n",
    "\n",
    "X_train_token = tokenizer.texts_to_sequences(X_train)\n",
    "X_test_token = tokenizer.texts_to_sequences(X_test)\n",
    "\n",
    "vocab_size = len(tokenizer.word_index) + 1  # Adding 1 because of reserved 0 index\n",
    "\n",
    "print(X_train_token[2])\n",
    "print(X_test_token[2])"
   ]
  },
  {
   "cell_type": "code",
   "execution_count": 29,
   "id": "familiar-arabic",
   "metadata": {},
   "outputs": [],
   "source": [
    "\n",
    "maxlen = 100\n",
    "\n",
    "X_train_ps = pad_sequences(X_train_we, padding='post', maxlen=maxlen)\n",
    "X_test_ps = pad_sequences(X_test_we, padding='post', maxlen=maxlen)\n",
    "\n",
    "encoder = LabelEncoder()\n",
    "y_train = encoder.fit_transform(y_train)\n",
    "y_test = encoder.fit_transform(y_test)"
   ]
  },
  {
   "cell_type": "code",
   "execution_count": 30,
   "id": "understood-patent",
   "metadata": {},
   "outputs": [],
   "source": [
    "embedding_dim = 50\n",
    "embedding_matrix = create_embedding_matrix('./datas/glove.6B/glove.6B.50d.txt', tokenizer.word_index, embedding_dim)\n",
    "\n"
   ]
  },
  {
   "cell_type": "code",
   "execution_count": 31,
   "id": "narrow-magnitude",
   "metadata": {},
   "outputs": [
    {
     "name": "stdout",
     "output_type": "stream",
     "text": [
      "Model: \"sequential_3\"\n",
      "_________________________________________________________________\n",
      "Layer (type)                 Output Shape              Param #   \n",
      "=================================================================\n",
      "embedding_3 (Embedding)      (None, 100, 50)           2948650   \n",
      "_________________________________________________________________\n",
      "global_max_pooling1d_3 (Glob (None, 50)                0         \n",
      "_________________________________________________________________\n",
      "dense_7 (Dense)              (None, 100)               5100      \n",
      "_________________________________________________________________\n",
      "dropout_1 (Dropout)          (None, 100)               0         \n",
      "_________________________________________________________________\n",
      "dense_8 (Dense)              (None, 14)                1414      \n",
      "=================================================================\n",
      "Total params: 2,955,164\n",
      "Trainable params: 2,955,164\n",
      "Non-trainable params: 0\n",
      "_________________________________________________________________\n"
     ]
    }
   ],
   "source": [
    "#clear_session() # to clear session\n",
    "model = Sequential()\n",
    "model.add(layers.Embedding(vocab_size, embedding_dim, \n",
    "                           weights=[embedding_matrix], \n",
    "                           input_length=maxlen, \n",
    "                           trainable=True))\n",
    "model.add(layers.GlobalMaxPool1D())\n",
    "model.add(layers.Dense(100, activation='relu'))\n",
    "model.add(layers.Dropout(0.3))\n",
    "model.add(layers.Dense(14, activation='softmax'))\n",
    "model.compile(optimizer='adam',\n",
    "              loss='sparse_categorical_crossentropy',\n",
    "              metrics=['accuracy'])\n",
    "model.summary()"
   ]
  },
  {
   "cell_type": "code",
   "execution_count": 32,
   "id": "designing-marketplace",
   "metadata": {
    "collapsed": true,
    "jupyter": {
     "outputs_hidden": true,
     "source_hidden": true
    }
   },
   "outputs": [
    {
     "name": "stdout",
     "output_type": "stream",
     "text": [
      "Epoch 1/50\n",
      "56/56 [==============================] - 3s 41ms/step - loss: 2.5736 - accuracy: 0.1402 - val_loss: 2.1779 - val_accuracy: 0.2309\n",
      "Epoch 2/50\n",
      "56/56 [==============================] - 2s 38ms/step - loss: 2.2036 - accuracy: 0.2188 - val_loss: 2.1464 - val_accuracy: 0.2460\n",
      "Epoch 3/50\n",
      "56/56 [==============================] - 2s 38ms/step - loss: 2.1484 - accuracy: 0.2406 - val_loss: 2.1273 - val_accuracy: 0.2542\n",
      "Epoch 4/50\n",
      "56/56 [==============================] - 2s 40ms/step - loss: 2.1182 - accuracy: 0.2588 - val_loss: 2.1088 - val_accuracy: 0.2582\n",
      "Epoch 5/50\n",
      "56/56 [==============================] - 2s 39ms/step - loss: 2.1045 - accuracy: 0.2626 - val_loss: 2.0913 - val_accuracy: 0.2758\n",
      "Epoch 6/50\n",
      "56/56 [==============================] - 2s 38ms/step - loss: 2.0723 - accuracy: 0.2839 - val_loss: 2.0747 - val_accuracy: 0.2849\n",
      "Epoch 7/50\n",
      "56/56 [==============================] - 2s 40ms/step - loss: 2.0584 - accuracy: 0.2918 - val_loss: 2.0590 - val_accuracy: 0.2900\n",
      "Epoch 8/50\n",
      "56/56 [==============================] - 2s 42ms/step - loss: 2.0310 - accuracy: 0.2995 - val_loss: 2.0474 - val_accuracy: 0.2932\n",
      "Epoch 9/50\n",
      "56/56 [==============================] - 2s 39ms/step - loss: 1.9969 - accuracy: 0.3164 - val_loss: 2.0358 - val_accuracy: 0.2987\n",
      "Epoch 10/50\n",
      "56/56 [==============================] - 2s 38ms/step - loss: 1.9930 - accuracy: 0.3216 - val_loss: 2.0288 - val_accuracy: 0.3016\n",
      "Epoch 11/50\n",
      "56/56 [==============================] - 2s 40ms/step - loss: 1.9680 - accuracy: 0.3239 - val_loss: 2.0178 - val_accuracy: 0.3033\n",
      "Epoch 12/50\n",
      "56/56 [==============================] - 2s 39ms/step - loss: 1.9371 - accuracy: 0.3413 - val_loss: 2.0118 - val_accuracy: 0.3075\n",
      "Epoch 13/50\n",
      "56/56 [==============================] - 2s 41ms/step - loss: 1.9210 - accuracy: 0.3430 - val_loss: 2.0101 - val_accuracy: 0.3066\n",
      "Epoch 14/50\n",
      "56/56 [==============================] - 2s 39ms/step - loss: 1.9186 - accuracy: 0.3470 - val_loss: 2.0029 - val_accuracy: 0.3085\n",
      "Epoch 15/50\n",
      "56/56 [==============================] - 2s 44ms/step - loss: 1.8877 - accuracy: 0.3575 - val_loss: 1.9996 - val_accuracy: 0.3113\n",
      "Epoch 16/50\n",
      "56/56 [==============================] - 2s 39ms/step - loss: 1.8568 - accuracy: 0.3689 - val_loss: 1.9923 - val_accuracy: 0.3095\n",
      "Epoch 17/50\n",
      "56/56 [==============================] - 2s 39ms/step - loss: 1.8435 - accuracy: 0.3741 - val_loss: 1.9916 - val_accuracy: 0.3156\n",
      "Epoch 18/50\n",
      "56/56 [==============================] - 2s 40ms/step - loss: 1.8296 - accuracy: 0.3800 - val_loss: 1.9917 - val_accuracy: 0.3115\n",
      "Epoch 19/50\n",
      "56/56 [==============================] - 2s 39ms/step - loss: 1.8043 - accuracy: 0.3904 - val_loss: 1.9916 - val_accuracy: 0.3124\n",
      "Epoch 20/50\n",
      "56/56 [==============================] - 2s 40ms/step - loss: 1.7795 - accuracy: 0.3983 - val_loss: 1.9925 - val_accuracy: 0.3135\n",
      "Epoch 21/50\n",
      "56/56 [==============================] - 2s 39ms/step - loss: 1.7724 - accuracy: 0.3954 - val_loss: 1.9960 - val_accuracy: 0.3165\n",
      "Epoch 22/50\n",
      "56/56 [==============================] - 2s 42ms/step - loss: 1.7566 - accuracy: 0.4056 - val_loss: 1.9976 - val_accuracy: 0.3160\n",
      "Epoch 23/50\n",
      "56/56 [==============================] - 2s 40ms/step - loss: 1.7408 - accuracy: 0.4104 - val_loss: 2.0063 - val_accuracy: 0.3171\n",
      "Epoch 24/50\n",
      "56/56 [==============================] - 2s 39ms/step - loss: 1.7156 - accuracy: 0.4203 - val_loss: 2.0050 - val_accuracy: 0.3154\n",
      "Epoch 25/50\n",
      "56/56 [==============================] - 2s 39ms/step - loss: 1.7066 - accuracy: 0.4205 - val_loss: 2.0125 - val_accuracy: 0.3129\n",
      "Epoch 26/50\n",
      "56/56 [==============================] - 2s 39ms/step - loss: 1.6789 - accuracy: 0.4294 - val_loss: 2.0158 - val_accuracy: 0.3135\n",
      "Epoch 27/50\n",
      "56/56 [==============================] - 2s 39ms/step - loss: 1.6645 - accuracy: 0.4363 - val_loss: 2.0272 - val_accuracy: 0.3155\n",
      "Epoch 28/50\n",
      "56/56 [==============================] - 2s 39ms/step - loss: 1.6441 - accuracy: 0.4488 - val_loss: 2.0334 - val_accuracy: 0.3150\n",
      "Epoch 29/50\n",
      "56/56 [==============================] - 2s 42ms/step - loss: 1.6441 - accuracy: 0.4492 - val_loss: 2.0461 - val_accuracy: 0.3143\n",
      "Epoch 30/50\n",
      "56/56 [==============================] - 2s 39ms/step - loss: 1.6257 - accuracy: 0.4533 - val_loss: 2.0518 - val_accuracy: 0.3139\n",
      "Epoch 31/50\n",
      "56/56 [==============================] - 2s 39ms/step - loss: 1.6095 - accuracy: 0.4582 - val_loss: 2.0630 - val_accuracy: 0.3136\n",
      "Epoch 32/50\n",
      "56/56 [==============================] - 2s 39ms/step - loss: 1.5930 - accuracy: 0.4645 - val_loss: 2.0765 - val_accuracy: 0.3141\n",
      "Epoch 33/50\n",
      "56/56 [==============================] - 2s 39ms/step - loss: 1.5845 - accuracy: 0.4642 - val_loss: 2.0863 - val_accuracy: 0.3109\n",
      "Epoch 34/50\n",
      "56/56 [==============================] - 2s 39ms/step - loss: 1.5673 - accuracy: 0.4768 - val_loss: 2.0883 - val_accuracy: 0.3117\n",
      "Epoch 35/50\n",
      "56/56 [==============================] - 2s 39ms/step - loss: 1.5453 - accuracy: 0.4838 - val_loss: 2.1029 - val_accuracy: 0.3113\n",
      "Epoch 36/50\n",
      "56/56 [==============================] - 2s 41ms/step - loss: 1.5264 - accuracy: 0.4870 - val_loss: 2.1183 - val_accuracy: 0.3107\n",
      "Epoch 37/50\n",
      "56/56 [==============================] - 2s 39ms/step - loss: 1.5206 - accuracy: 0.4917 - val_loss: 2.1234 - val_accuracy: 0.3139\n",
      "Epoch 38/50\n",
      "56/56 [==============================] - 2s 39ms/step - loss: 1.5035 - accuracy: 0.4903 - val_loss: 2.1451 - val_accuracy: 0.3114\n",
      "Epoch 39/50\n",
      "56/56 [==============================] - 2s 39ms/step - loss: 1.4820 - accuracy: 0.5053 - val_loss: 2.1567 - val_accuracy: 0.3096\n",
      "Epoch 40/50\n",
      "56/56 [==============================] - 2s 38ms/step - loss: 1.4688 - accuracy: 0.5058 - val_loss: 2.1800 - val_accuracy: 0.3083\n",
      "Epoch 41/50\n",
      "56/56 [==============================] - 2s 39ms/step - loss: 1.4640 - accuracy: 0.5068 - val_loss: 2.1883 - val_accuracy: 0.3103\n",
      "Epoch 42/50\n",
      "56/56 [==============================] - 2s 39ms/step - loss: 1.4316 - accuracy: 0.5204 - val_loss: 2.2075 - val_accuracy: 0.3053\n",
      "Epoch 43/50\n",
      "56/56 [==============================] - 2s 40ms/step - loss: 1.4241 - accuracy: 0.5228 - val_loss: 2.2196 - val_accuracy: 0.3043\n",
      "Epoch 44/50\n",
      "56/56 [==============================] - 2s 40ms/step - loss: 1.4121 - accuracy: 0.5264 - val_loss: 2.2232 - val_accuracy: 0.3067\n",
      "Epoch 45/50\n",
      "56/56 [==============================] - 2s 39ms/step - loss: 1.3988 - accuracy: 0.5302 - val_loss: 2.2686 - val_accuracy: 0.3078\n",
      "Epoch 46/50\n",
      "56/56 [==============================] - 2s 39ms/step - loss: 1.3795 - accuracy: 0.5361 - val_loss: 2.2747 - val_accuracy: 0.3056\n",
      "Epoch 47/50\n",
      "56/56 [==============================] - 2s 39ms/step - loss: 1.3731 - accuracy: 0.5447 - val_loss: 2.2978 - val_accuracy: 0.3075\n",
      "Epoch 48/50\n",
      "56/56 [==============================] - 2s 39ms/step - loss: 1.3622 - accuracy: 0.5424 - val_loss: 2.3001 - val_accuracy: 0.3043\n",
      "Epoch 49/50\n",
      "56/56 [==============================] - 2s 39ms/step - loss: 1.3487 - accuracy: 0.5454 - val_loss: 2.3108 - val_accuracy: 0.3035\n",
      "Epoch 50/50\n",
      "56/56 [==============================] - 2s 39ms/step - loss: 1.3318 - accuracy: 0.5539 - val_loss: 2.3312 - val_accuracy: 0.3038\n",
      "875/875 [==============================] - 2s 2ms/step - loss: 1.2607 - accuracy: 0.5846\n",
      "Training Accuracy: 0.5846\n",
      "375/375 [==============================] - 1s 2ms/step - loss: 2.3312 - accuracy: 0.3038\n",
      "Testing Accuracy:  0.3038\n"
     ]
    }
   ],
   "source": [
    "history = model.fit(X_train_ps, y_train,\n",
    "                    epochs=50,\n",
    "                    verbose=True,\n",
    "                    validation_data=(X_test_ps, y_test),\n",
    "                    batch_size=500)\n",
    "loss, accuracy = model.evaluate(X_train_ps, y_train, verbose=True)\n",
    "print(\"Training Accuracy: {:.4f}\".format(accuracy))\n",
    "loss, accuracy = model.evaluate(X_test_ps, y_test, verbose=True)\n",
    "print(\"Testing Accuracy:  {:.4f}\".format(accuracy))\n"
   ]
  },
  {
   "cell_type": "code",
   "execution_count": 33,
   "id": "british-township",
   "metadata": {},
   "outputs": [
    {
     "data": {
      "image/png": "[encoded data removed]",
      "text/plain": [
       "<Figure size 864x360 with 2 Axes>"
      ]
     },
     "metadata": {
      "needs_background": "light"
     },
     "output_type": "display_data"
    }
   ],
   "source": [
    "plot_history(history)"
   ]
  },
  {
   "cell_type": "code",
   "execution_count": null,
   "id": "obvious-republic",
   "metadata": {},
   "outputs": [],
   "source": [
    "y_predicted = model.predict(X_test)\n",
    "accuracy = model.evaluate(X_test, y_test, batch_size= 100, verbose= True)\n"
   ]
  },
  {
   "cell_type": "code",
   "execution_count": null,
   "id": "acute-street",
   "metadata": {},
   "outputs": [],
   "source": []
  },
  {
   "cell_type": "code",
   "execution_count": null,
   "id": "dirty-hindu",
   "metadata": {},
   "outputs": [],
   "source": []
  },
  {
   "cell_type": "code",
   "execution_count": null,
   "id": "distributed-batman",
   "metadata": {},
   "outputs": [],
   "source": []
  },
  {
   "cell_type": "code",
   "execution_count": null,
   "id": "limited-raising",
   "metadata": {},
   "outputs": [],
   "source": []
  },
  {
   "cell_type": "markdown",
   "id": "funky-detector",
   "metadata": {},
   "source": [
    "## Test avec un jeu plus filtré"
   ]
  },
  {
   "cell_type": "code",
   "execution_count": 62,
   "id": "documentary-fifteen",
   "metadata": {},
   "outputs": [
    {
     "name": "stdout",
     "output_type": "stream",
     "text": [
      "Nombre de message: 40000\n",
      "Les émotions....:\n",
      "      sentiment  compt\n",
      "0        anger    110\n",
      "1      boredom    179\n",
      "2        empty    827\n",
      "3   enthusiasm    759\n",
      "4          fun   1776\n",
      "5    happiness   5209\n",
      "6         hate   1323\n",
      "7         love   3842\n",
      "8      neutral   8638\n",
      "9       relief   1526\n",
      "10     sadness   5165\n",
      "11    surprise   2187\n",
      "12       worry   8459\n",
      "Les auteurs par ordres décroissant du nombre de message postés:\n",
      "                 author  compt\n",
      "7942       MissxMarisa     23\n",
      "2171      ChineseLearn     22\n",
      "7668    MiDesfileNegro     19\n",
      "18330       erkagarcia     19\n",
      "24210         lost_dog     18\n",
      "32187         tsarnick     17\n",
      "6093        KimmiMcfly     15\n",
      "23944      linnetwoods     15\n",
      "3079           Dogbook     14\n",
      "15739      cece_newnew     14\n",
      "26091  mrs_mcsupergirl     14\n",
      "32248       twebbstack     14\n",
      "9312             Quimo     14\n",
      "21495  jesssicababesss     13\n",
      "17396    divxdownloads     13\n",
      "24184     lopezwilfred     12\n",
      "11650     TraceyHewins     12\n",
      "23713        lesley007     12\n",
      "11577           Tittch     11\n",
      "7266      MandyPandy32     11\n",
      "14511      beingnobody     11\n",
      "2393       ComedyQueen     11\n",
      "32704      violetbakes     10\n",
      "2838    DawnofOURnight     10\n",
      "9980           Samm_xo     10\n",
      "3915        Gemmaboyle     10\n",
      "1554    BrandySanDiego     10\n",
      "22742           keza34     10\n",
      "4215    HanaStephenson     10\n",
      "31068     sweetdreamer     10\n"
     ]
    }
   ],
   "source": [
    "# Lecture du fichiern et création de la data frame.\n",
    "#  Nom des colonnes: tweet_id, sentiment, author, content\n",
    "#  Liste des sentiments : 'empty' 'sadness' 'enthusiasm' 'neutral' 'worry' 'surprise' 'love' 'fun'\n",
    "#    'hate' 'happiness' 'boredom' 'relief' 'anger'\n",
    "\n",
    "data_emo2= pds.read_csv('./datas/text_emotion_02.csv')\n",
    "#, engine= \"python\", encoding='utf-8', error_bad_lines=False) # POUR GOOGLE COLAB SINON ERREUR!\n",
    "\n",
    "print(\"Nombre de message:\",len(data_emo2))\n",
    "\n",
    "df_count_emotion = data_emo2.groupby(['sentiment']).size().reset_index(name='compt')\n",
    "print(\"Les émotions....:\\n\",df_count_emotion)\n",
    "\n",
    "df_count_author = data_emo2.groupby(['author']).size().reset_index(name='compt')\n",
    "#print(df_count_author)\n",
    "print(\"Les auteurs par ordres décroissant du nombre de message postés:\\n\",\n",
    "      df_count_author.sort_values(by= \"compt\", ascending = False).head(30))\n"
   ]
  },
  {
   "cell_type": "code",
   "execution_count": 63,
   "id": "approximate-nerve",
   "metadata": {},
   "outputs": [],
   "source": [
    "# Tokenisation\n",
    "\n",
    "# Création d'une colonne tokenisée\n",
    "corpus=[]\n",
    "for el in data_emo2.content:\n",
    "    token= word_tokenize(el)\n",
    "    corpus.append(token)\n",
    "data_emo2['token_brut'] = pds.Series(corpus)\n",
    "#print(data_emo2.token_brut.head(10))"
   ]
  },
  {
   "cell_type": "code",
   "execution_count": 64,
   "id": "rough-passage",
   "metadata": {},
   "outputs": [
    {
     "name": "stdout",
     "output_type": "stream",
     "text": [
      "[2, 62, 16, 32, 32]\n",
      "[3008, 436, 400, 3052, 258, 3052, 2927, 337, 53, 1668, 6, 34, 20, 1]\n",
      "45997\n"
     ]
    }
   ],
   "source": [
    "\n",
    "X_train, X_test, y_train, y_test = train_test_split(data_emo2.token_brut, data_emo2.sentiment, test_size = 0.3,random_state=42)\n",
    "\n",
    "\n",
    "num_words= 5000\n",
    "tokenizer = Tokenizer(num_words= num_words, lower= False, filters= '')\n",
    "tokenizer.fit_on_texts(X_train)\n",
    "\n",
    "X_train_token = tokenizer.texts_to_sequences(X_train)\n",
    "X_test_token = tokenizer.texts_to_sequences(X_test)\n",
    "\n",
    "vocab_size = len(tokenizer.word_index) + 1  # Adding 1 because of reserved 0 index\n",
    "\n",
    "print(X_train_we[2])\n",
    "print(X_test_we[2])\n",
    "print(vocab_size)"
   ]
  },
  {
   "cell_type": "code",
   "execution_count": 65,
   "id": "piano-elder",
   "metadata": {},
   "outputs": [],
   "source": [
    "\n",
    "maxlen = 100\n",
    "\n",
    "X_train_ps = pad_sequences(X_train_token, padding='post', maxlen=maxlen)\n",
    "X_test_ps = pad_sequences(X_test_token, padding='post', maxlen=maxlen)"
   ]
  },
  {
   "cell_type": "code",
   "execution_count": 66,
   "id": "interim-essence",
   "metadata": {},
   "outputs": [
    {
     "name": "stdout",
     "output_type": "stream",
     "text": [
      "Model: \"sequential_6\"\n",
      "_________________________________________________________________\n",
      "Layer (type)                 Output Shape              Param #   \n",
      "=================================================================\n",
      "embedding_6 (Embedding)      (None, 100, 50)           2299850   \n",
      "_________________________________________________________________\n",
      "global_max_pooling1d_6 (Glob (None, 50)                0         \n",
      "_________________________________________________________________\n",
      "dense_15 (Dense)             (None, 10)                510       \n",
      "_________________________________________________________________\n",
      "dense_16 (Dense)             (None, 100)               1100      \n",
      "_________________________________________________________________\n",
      "dense_17 (Dense)             (None, 13)                1313      \n",
      "=================================================================\n",
      "Total params: 2,302,773\n",
      "Trainable params: 2,302,773\n",
      "Non-trainable params: 0\n",
      "_________________________________________________________________\n"
     ]
    }
   ],
   "source": [
    "\n",
    "embedding_dim = 50\n",
    "\n",
    "model = Sequential()\n",
    "model.add(layers.Embedding(input_dim=vocab_size, \n",
    "                           output_dim=embedding_dim, \n",
    "                           input_length=maxlen))\n",
    "model.add(layers.GlobalMaxPool1D())\n",
    "model.add(layers.Dense(10, activation='relu'))\n",
    "model.add(layers.Dense(100, activation='relu'))\n",
    "model.add(layers.Dense(13, activation='softmax'))\n",
    "model.compile(optimizer='adam',\n",
    "              loss='sparse_categorical_crossentropy',\n",
    "              metrics=['accuracy'])\n",
    "model.summary()\n"
   ]
  },
  {
   "cell_type": "code",
   "execution_count": 67,
   "id": "aboriginal-principal",
   "metadata": {},
   "outputs": [],
   "source": [
    "\n",
    "encoder = LabelEncoder()\n",
    "y_train = encoder.fit_transform(y_train)\n",
    "y_test = encoder.fit_transform(y_test)"
   ]
  },
  {
   "cell_type": "code",
   "execution_count": 68,
   "id": "alien-luther",
   "metadata": {},
   "outputs": [
    {
     "name": "stdout",
     "output_type": "stream",
     "text": [
      "Epoch 1/10\n",
      "140/140 [==============================] - 4s 27ms/step - loss: 2.3540 - accuracy: 0.1905 - val_loss: 2.1417 - val_accuracy: 0.2648\n",
      "Epoch 2/10\n",
      "140/140 [==============================] - 4s 31ms/step - loss: 2.1189 - accuracy: 0.2664 - val_loss: 1.9848 - val_accuracy: 0.3194\n",
      "Epoch 3/10\n",
      "140/140 [==============================] - 5s 39ms/step - loss: 1.9141 - accuracy: 0.3481 - val_loss: 1.9336 - val_accuracy: 0.3351\n",
      "Epoch 4/10\n",
      "140/140 [==============================] - 5s 39ms/step - loss: 1.7921 - accuracy: 0.3805 - val_loss: 1.9316 - val_accuracy: 0.3363\n",
      "Epoch 5/10\n",
      "140/140 [==============================] - 5s 39ms/step - loss: 1.7144 - accuracy: 0.4154 - val_loss: 1.9492 - val_accuracy: 0.3355\n",
      "Epoch 6/10\n",
      "140/140 [==============================] - 5s 38ms/step - loss: 1.6348 - accuracy: 0.4416 - val_loss: 1.9900 - val_accuracy: 0.3316\n",
      "Epoch 7/10\n",
      "140/140 [==============================] - 5s 38ms/step - loss: 1.5398 - accuracy: 0.4778 - val_loss: 2.0542 - val_accuracy: 0.3289\n",
      "Epoch 8/10\n",
      "140/140 [==============================] - 5s 38ms/step - loss: 1.4726 - accuracy: 0.5012 - val_loss: 2.1321 - val_accuracy: 0.3236\n",
      "Epoch 9/10\n",
      "140/140 [==============================] - 5s 38ms/step - loss: 1.3796 - accuracy: 0.5322 - val_loss: 2.2148 - val_accuracy: 0.3140\n",
      "Epoch 10/10\n",
      "140/140 [==============================] - 5s 39ms/step - loss: 1.3156 - accuracy: 0.5561 - val_loss: 2.3239 - val_accuracy: 0.3097\n",
      "Training Accuracy: 0.5973\n",
      "Testing Accuracy:  0.3097\n"
     ]
    }
   ],
   "source": [
    "history = model.fit(X_train_ps, y_train,\n",
    "                    epochs=10,\n",
    "                    verbose= True,\n",
    "                    validation_data=(X_test_ps, y_test),\n",
    "                    batch_size=200)\n",
    "loss, accuracy = model.evaluate(X_train_ps, y_train, verbose=False)\n",
    "print(\"Training Accuracy: {:.4f}\".format(accuracy))\n",
    "loss, accuracy = model.evaluate(X_test_ps, y_test, verbose=False)\n",
    "print(\"Testing Accuracy:  {:.4f}\".format(accuracy))\n"
   ]
  },
  {
   "cell_type": "code",
   "execution_count": 69,
   "id": "precise-publication",
   "metadata": {},
   "outputs": [
    {
     "data": {
      "image/png": "[encoded data removed]",
      "text/plain": [
       "<Figure size 864x360 with 2 Axes>"
      ]
     },
     "metadata": {
      "needs_background": "light"
     },
     "output_type": "display_data"
    }
   ],
   "source": [
    "plot_history(history)"
   ]
  },
  {
   "cell_type": "code",
   "execution_count": 80,
   "id": "lightweight-fifty",
   "metadata": {},
   "outputs": [],
   "source": [
    "from copy import deepcopy\n",
    "import re\n",
    "\n",
    "test= deepcopy(data_emo2.content)"
   ]
  },
  {
   "cell_type": "code",
   "execution_count": 134,
   "id": "environmental-serum",
   "metadata": {},
   "outputs": [],
   "source": [
    "#print(tokenizer.word_index)"
   ]
  },
  {
   "cell_type": "code",
   "execution_count": 81,
   "id": "collectible-makeup",
   "metadata": {},
   "outputs": [
    {
     "ename": "SyntaxError",
     "evalue": "unexpected EOF while parsing (<ipython-input-81-ee878ee12268>, line 2)",
     "output_type": "error",
     "traceback": [
      "\u001b[0;36m  File \u001b[0;32m\"<ipython-input-81-ee878ee12268>\"\u001b[0;36m, line \u001b[0;32m2\u001b[0m\n\u001b[0;31m    #print(el)\u001b[0m\n\u001b[0m              ^\u001b[0m\n\u001b[0;31mSyntaxError\u001b[0m\u001b[0;31m:\u001b[0m unexpected EOF while parsing\n"
     ]
    }
   ],
   "source": [
    "for el in test:\n",
    "    pass\n",
    "    #print(el)"
   ]
  },
  {
   "cell_type": "code",
   "execution_count": 188,
   "id": "laden-excerpt",
   "metadata": {},
   "outputs": [
    {
     "data": {
      "text/plain": [
       "True"
      ]
     },
     "execution_count": 188,
     "metadata": {},
     "output_type": "execute_result"
    }
   ],
   "source": [
    "\n"
   ]
  },
  {
   "cell_type": "code",
   "execution_count": 107,
   "id": "attempted-privilege",
   "metadata": {},
   "outputs": [
    {
     "name": "stdout",
     "output_type": "stream",
     "text": [
      "True\n"
     ]
    }
   ],
   "source": [
    "ch= 'hlkjqdshl qds http://www.example.es/cat1/cat2/some-example_DH148439#.Rh1-js_4 lhlkj qs'\n",
    "'hlkjqdshl qds http://www.example.es/cat1/cat2/some-example_DH148439#.Rh1-js_4 lhlkj qs'"
   ]
  },
  {
   "cell_type": "code",
   "execution_count": 124,
   "id": "combined-serve",
   "metadata": {},
   "outputs": [],
   "source": [
    "text= 'hlkjqdshl qds https://www.example.es/cat1/cat2/some-example_DH148439#.Rh1-js_4 lhlkj qs'"
   ]
  },
  {
   "cell_type": "code",
   "execution_count": 125,
   "id": "altered-inspection",
   "metadata": {},
   "outputs": [],
   "source": [
    "ch = re.sub(r'^https?:\\/\\/.*[\\r\\n]*', '', text, flags=re.MULTILINE)\n",
    "\n",
    "#p = re.compile(r'^[^:]+://([^.]+\\.)+[^/]+/([^/]+/)+[^#]+(#.+)?$')\n",
    "\n"
   ]
  },
  {
   "cell_type": "code",
   "execution_count": 126,
   "id": "dated-roberts",
   "metadata": {},
   "outputs": [
    {
     "data": {
      "text/plain": [
       "'hlkjqdshl qds https://www.example.es/cat1/cat2/some-example_DH148439#.Rh1-js_4 lhlkj qs'"
      ]
     },
     "execution_count": 126,
     "metadata": {},
     "output_type": "execute_result"
    }
   ],
   "source": [
    "ch"
   ]
  },
  {
   "cell_type": "code",
   "execution_count": 127,
   "id": "stupid-religion",
   "metadata": {},
   "outputs": [
    {
     "data": {
      "text/plain": [
       "'hlkjqdshl qds https://www.example.es/cat1/cat2/some-example_DH148439#.Rh1-js_4 lhlkj qs'"
      ]
     },
     "execution_count": 127,
     "metadata": {},
     "output_type": "execute_result"
    }
   ],
   "source": [
    "text"
   ]
  },
  {
   "cell_type": "code",
   "execution_count": null,
   "id": "searching-speech",
   "metadata": {},
   "outputs": [],
   "source": []
  }
 ],
 "metadata": {
  "kernelspec": {
   "display_name": "Python 3",
   "language": "python",
   "name": "python3"
  },
  "language_info": {
   "codemirror_mode": {
    "name": "ipython",
    "version": 3
   },
   "file_extension": ".py",
   "mimetype": "text/x-python",
   "name": "python",
   "nbconvert_exporter": "python",
   "pygments_lexer": "ipython3",
   "version": "3.8.8"
  }
 },
 "nbformat": 4,
 "nbformat_minor": 5
}
