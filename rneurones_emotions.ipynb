{
 "cells": [
  {
   "cell_type": "markdown",
   "metadata": {},
   "source": [
    "# Reprise brief emotion (brief 8)"
   ]
  },
  {
   "cell_type": "code",
   "execution_count": null,
   "metadata": {},
   "outputs": [],
   "source": []
  },
  {
   "cell_type": "code",
   "execution_count": 1,
   "metadata": {},
   "outputs": [],
   "source": [
    "# import\n",
    "import pandas as pds\n",
    "#import string\n",
    "import numpy as np\n",
    "\n",
    "#for machine Learning - classification \n",
    "from sklearn.svm import LinearSVC\n",
    "from sklearn.metrics import confusion_matrix, f1_score, classification_report\n",
    "from sklearn.model_selection import train_test_split\n",
    "from sklearn.feature_extraction.text import CountVectorizer, TfidfVectorizer\n",
    "#\n",
    "from sklearn.linear_model import SGDClassifier, LogisticRegression, LogisticRegressionCV\n",
    "#\n",
    "# for visuaiization\n",
    "#import seaborn as sns\n",
    "import matplotlib.pyplot as plt\n",
    "\n",
    "#for NLP\n",
    "from nltk.stem import WordNetLemmatizer\n",
    "from nltk import word_tokenize\n",
    "from nltk.corpus import stopwords\n",
    "\n",
    "import nltk # A supprimer si OK"
   ]
  },
  {
   "cell_type": "code",
   "execution_count": 2,
   "metadata": {},
   "outputs": [
    {
     "name": "stdout",
     "output_type": "stream",
     "text": [
      "Nombre de message: 40000\n",
      "Les émotions....:\n",
      "      sentiment  compt\n",
      "0        anger    110\n",
      "1      boredom    179\n",
      "2        empty    827\n",
      "3   enthusiasm    759\n",
      "4          fun   1776\n",
      "5    happiness   5209\n",
      "6         hate   1323\n",
      "7         love   3842\n",
      "8      neutral   8638\n",
      "9       relief   1526\n",
      "10     sadness   5165\n",
      "11    surprise   2187\n",
      "12       worry   8459\n",
      "Les auteurs par ordres décroissant du nombre de message postés:\n",
      "                 author  compt\n",
      "7942       MissxMarisa     23\n",
      "2171      ChineseLearn     22\n",
      "7668    MiDesfileNegro     19\n",
      "18330       erkagarcia     19\n",
      "24210         lost_dog     18\n",
      "32187         tsarnick     17\n",
      "6093        KimmiMcfly     15\n",
      "23944      linnetwoods     15\n",
      "3079           Dogbook     14\n",
      "15739      cece_newnew     14\n",
      "26091  mrs_mcsupergirl     14\n",
      "32248       twebbstack     14\n",
      "9312             Quimo     14\n",
      "21495  jesssicababesss     13\n",
      "17396    divxdownloads     13\n",
      "24184     lopezwilfred     12\n",
      "11650     TraceyHewins     12\n",
      "23713        lesley007     12\n",
      "11577           Tittch     11\n",
      "7266      MandyPandy32     11\n",
      "14511      beingnobody     11\n",
      "2393       ComedyQueen     11\n",
      "32704      violetbakes     10\n",
      "2838    DawnofOURnight     10\n",
      "9980           Samm_xo     10\n",
      "3915        Gemmaboyle     10\n",
      "1554    BrandySanDiego     10\n",
      "22742           keza34     10\n",
      "4215    HanaStephenson     10\n",
      "31068     sweetdreamer     10\n"
     ]
    }
   ],
   "source": [
    "# Lecture du fichiern et création de la data frame.\n",
    "#  Nom des colonnes: tweet_id, sentiment, author, content\n",
    "#  Liste des sentiments : 'empty' 'sadness' 'enthusiasm' 'neutral' 'worry' 'surprise' 'love' 'fun'\n",
    "#    'hate' 'happiness' 'boredom' 'relief' 'anger'\n",
    "\n",
    "data_emo2= pds.read_csv('./datas/text_emotion.csv')\n",
    "#data_emo2= pds.read_csv('./datas/text_emotion_02.csv')\n",
    "#, engine= \"python\", encoding='utf-8', error_bad_lines=False) # POUR GOOGLE COLAB SINON ERREUR!\n",
    "\n",
    "print(\"Nombre de message:\",len(data_emo2))\n",
    "\n",
    "df_count_emotion = data_emo2.groupby(['sentiment']).size().reset_index(name='compt')\n",
    "print(\"Les émotions....:\\n\",df_count_emotion)\n",
    "\n",
    "df_count_author = data_emo2.groupby(['author']).size().reset_index(name='compt')\n",
    "#print(df_count_author)\n",
    "print(\"Les auteurs par ordres décroissant du nombre de message postés:\\n\",\n",
    "      df_count_author.sort_values(by= \"compt\", ascending = False).head(30))\n"
   ]
  },
  {
   "cell_type": "markdown",
   "metadata": {},
   "source": [
    "## **1) Récupération des données**  \n",
    "Ce fichier contient 4 colonnes: **tweet_id**, **sentiment**, **author**, **content**. Les émotions associées aux messages (colonne content) sont:  \n",
    "**anger** (110 messages), **boredom** (179 messages), **empty** (827 messages), **enthusiasm** (759 messages), **fun** (1776  messages), **happiness** (5209 messages), **hate** (1323 messages), **love** (3842 messages), **neutral** (8638 messages), **relief** (1526 messages), **sadness** (5165 messages), **surprise** (2187  messages) et **worry** (8459  messages).  \n",
    "Nombre de messages: 40 000  \n",
    "  \n",
    "En ce qui concerne le texte brut, on voit qu'il sera nécessaire de faire un pré-traitement à l'aide de regex (que je n'ai pu faire, faute de temps). Les @toto indiquants la personne à qui s'adresse le message, les abréviations, les différentes écriture du même mots, les émoticones (complexes car nombreux et avec de nombreuse \"orthographe\" possible devront impérativement être traité pour espérer aboutir a des résultats correctes.  \n",
    "  \n",
    "Les n-grams devront être rechercher et leur pertinance analysée (exemple: lady gaga).  \n",
    "  \n",
    "La sous représentation de certains sentiments ne permettentront pas une grande précision (même problème que sur le 1er jeux de donnée).  \n",
    "  \n",
    "Il faudrai aussi renomer quelques sentiments pour avoir la même étiquette (happy et happyness)."
   ]
  },
  {
   "cell_type": "markdown",
   "metadata": {},
   "source": [
    "data_emo2.content.head(20)"
   ]
  },
  {
   "cell_type": "markdown",
   "metadata": {},
   "source": [
    "## **2) Pré-traitement des données**"
   ]
  },
  {
   "cell_type": "markdown",
   "metadata": {},
   "source": [
    "### **a) Tokenisation**  \n",
    "Bien que cette opération soit incluse dans la vectorisation et est donc inutile à ce stade, elle est réalisée à titre d'exercice. Elle pourrait aussi servir pour faciliter un pré traitement des donnéees (pour repérer plus facilement les émoticones par exemple et les ré-associé comme 1 seul mots. les émoticones suivant :), :-), =], :D serait remplacé par le mot sourire ou laissé tel quel).  \n",
    "  \n",
    "On crée aussi une nouvelle colonne que l'on rajoute à la data frame de départ contenant le texte \"tokénisé\"."
   ]
  },
  {
   "cell_type": "code",
   "execution_count": 3,
   "metadata": {},
   "outputs": [],
   "source": [
    "# Tokenisation\n",
    "\n",
    "# Création d'une colonne tokenisée\n",
    "corpus=[]\n",
    "for el in data_emo2.content:\n",
    "    token= word_tokenize(el)\n",
    "    corpus.append(token)\n",
    "data_emo2['token_brut'] = pds.Series(corpus)\n",
    "#print(data_emo2.token_brut.head(10))"
   ]
  },
  {
   "cell_type": "code",
   "execution_count": 4,
   "metadata": {},
   "outputs": [],
   "source": [
    "# Création d'une colonne tokenisée sans stopwords avec ponctuation (important pour les émoticones)\n",
    "stopwords=nltk.corpus.stopwords.words('english')\n",
    "#stopwords.extend(exclude)\n",
    "\n",
    "corpus=[]\n",
    "for el in data_emo2.token_brut:\n",
    "    token=[]\n",
    "    for wd in el:\n",
    "        if wd not in stopwords:\n",
    "            token.append(wd)\n",
    "    corpus.append(token)\n",
    "data_emo2['token_sans_stopwd'] = pds.Series(corpus)\n",
    "\n",
    "#data_emo2.token_sans_stopwd.head(10)"
   ]
  },
  {
   "cell_type": "code",
   "execution_count": 5,
   "metadata": {},
   "outputs": [],
   "source": [
    "# À partir de la cellule précédente on ré-écrit les phrase sans stopword (utilisé par la suite \n",
    "#  avec la vectorisation)\n",
    "\n",
    "corpus= data_emo2['token_sans_stopwd']\n",
    "\n",
    "corpus2=[]\n",
    "for el in corpus:\n",
    "    ligne=''\n",
    "    ligne = ' '.join(el) # Magique! \n",
    "    corpus2.append(ligne)\n",
    "\n",
    "data_emo2['phrase_sans_stopwd'] = pds.Series(corpus2)\n",
    "\n",
    "#print(data_emo2.phrase_sans_stopwd.head(20))"
   ]
  },
  {
   "cell_type": "code",
   "execution_count": 6,
   "metadata": {},
   "outputs": [],
   "source": [
    "# Lemantisation et normalisation\n",
    "\n",
    "lemma = WordNetLemmatizer()\n",
    "\n",
    "corpus=[]\n",
    "#print(stopwords)\n",
    "for el in data_emo2.token_sans_stopwd:\n",
    "    token=[]\n",
    "    token=[lemma.lemmatize(word.lower()) for word in el]\n",
    "    corpus.append(token)\n",
    "\n",
    "data_emo2['lemn_normal'] = pds.Series(corpus)\n",
    "\n",
    "#data_emo2.lemn_normal.head(10)"
   ]
  },
  {
   "cell_type": "code",
   "execution_count": 7,
   "metadata": {},
   "outputs": [],
   "source": [
    "# Création d'une colonne de phrase Lemantisé.\n",
    "\n",
    "corpus= data_emo2['lemn_normal']\n",
    "\n",
    "corpus2=[]\n",
    "for el in corpus:\n",
    "    ligne=''\n",
    "    ligne = ' '.join(el)\n",
    "    corpus2.append(ligne)\n",
    "\n",
    "data_emo2['phrase_lemn_normal'] = pds.Series(corpus2)\n",
    "\n",
    "#print(data_emo2.phrase_lemn_normal.head(20))"
   ]
  },
  {
   "cell_type": "markdown",
   "metadata": {},
   "source": [
    "## **3) Traitement des données**  \n",
    "Bien... les choses sérieuses commencent !\n",
    "Dans les messages, on peut voir un certain nombre de mot non pertinant. Des numéros de téléphone \"splité\", des écritures différentes du même mot (and, aaand, aaaaand,....), des fautes d'orthographes,....\n",
    "On pourrait se constituer un dictionnaire des \"synonymes\" ad hoc et voir si cela améliorerai les choses? De la même façon un nettoyage en profondeur du jeux de donnée pour retirer les \"faux\" mots pourrait être fait. Il faudrait prévoir un temps de Prétraitement beaucoup plus long.  \n",
    "\n",
    "**Le \"pipe\" ne sera pas utilisé dans un 1er temps à cause de son temps d'exécution élevé** Les différentes classifications\n"
   ]
  },
  {
   "cell_type": "markdown",
   "metadata": {},
   "source": [
    "### **a) Données: Phrases aprés avoir retiré les stops words et en utilisants les unigram et bigram**  \n",
    "Les 1er test n'ayant pas été concluant on tente une amélioration par utilisation des n-gram.... Mais cela restera trés décevant.  \n",
    "  \n",
    "**Attention au n_gram, il font exploser la dimension.**"
   ]
  },
  {
   "cell_type": "code",
   "execution_count": 8,
   "metadata": {},
   "outputs": [],
   "source": [
    "from sklearn.feature_extraction.text import TfidfVectorizer\n",
    "\n",
    "choix= 1\n",
    "\n",
    "if choix== 0:\n",
    "    #vectorisation_cv = CountVectorizer(ngram_range=(1, 2))\n",
    "    vectorisation_cv = CountVectorizer()\n",
    "\n",
    "    cv= vectorisation_cv.fit_transform(data_emo2.phrase_sans_stopwd)\n",
    "    feature_names = vectorisation_cv.get_feature_names() # dictionnaire des mots utilisés\n",
    "    #print(feature_names[:1000])\n",
    "\n",
    "elif choix== 1:\n",
    "    vectorisation_cv= tfidf_vectorizer = TfidfVectorizer()\n",
    "    cv= vectorisation_cv.fit_transform(data_emo2.phrase_sans_stopwd)\n",
    "    feature_names = vectorisation_cv.get_feature_names() # dictionnaire des mots utilisés\n",
    "    #print(feature_names[:1000])\n",
    "\n",
    "X_train, X_test, y_train, y_test = train_test_split(cv, data_emo2.sentiment, test_size = 0.3,random_state=42)\n",
    "\n"
   ]
  },
  {
   "cell_type": "code",
   "execution_count": 9,
   "metadata": {},
   "outputs": [],
   "source": [
    "#print(data_emo2.phrase_sans_stopwd.shape)\n",
    "#print(cv.shape)\n",
    "#print(data_emo2.sentiment.shape)"
   ]
  },
  {
   "cell_type": "markdown",
   "metadata": {},
   "source": [
    "#### **a-2) Test du classifier LinearSVC.**  \n",
    "Pour rappel.... Avec le SVC"
   ]
  },
  {
   "cell_type": "code",
   "execution_count": null,
   "metadata": {},
   "outputs": [],
   "source": [
    "clf = LinearSVC(max_iter=1000)\n",
    "clf.fit(X_train, y_train)\n",
    "pred_LinearSVC = clf.predict(X_test)\n",
    "#print('Fl Score', f1_score(y_test, y_pred, average=None))\n",
    "print(classification_report(y_test,pred_LinearSVC))"
   ]
  },
  {
   "cell_type": "markdown",
   "metadata": {},
   "source": [
    "              precision    recall  f1-score   support\n",
    "\n",
    "   anger       0.00      0.00      0.00        33\n",
    " boredom       0.00      0.00      0.00        57\n",
    "   empty       0.05      0.02      0.03       242\n",
    "enthusiasm       0.03      0.01      0.02       249\n",
    "     fun       0.11      0.08      0.09       513\n",
    "happiness       0.30      0.28      0.29      1568\n",
    "    hate       0.25      0.19      0.22       383\n",
    "    love       0.35      0.37      0.36      1134\n",
    " neutral       0.35      0.45      0.39      2620\n",
    "  relief       0.11      0.07      0.08       515\n",
    " sadness       0.28      0.27      0.28      1560\n",
    "surprise       0.12      0.08      0.10       625\n",
    "   worry       0.32      0.36      0.34      2501\n",
    "\n",
    "accuracy                           0.30     12000\n",
    "macro avg       0.17      0.17      0.17     12000\n",
    "weighted avg       0.28      0.30      0.28     12000\n",
    "\n"
   ]
  },
  {
   "cell_type": "markdown",
   "metadata": {},
   "source": [
    "#### **a-3) Test du classifier LogisticRegression.**  \n",
    "Les résultats sont trés proche du classifier précédent."
   ]
  },
  {
   "cell_type": "code",
   "execution_count": null,
   "metadata": {},
   "outputs": [],
   "source": [
    "logreg= LogisticRegression(max_iter=1000)\n",
    "logreg.fit(X_train,y_train)\n",
    "pred_logreg=logreg.predict(X_test)\n",
    "print(classification_report(y_test,pred_logreg))"
   ]
  },
  {
   "cell_type": "code",
   "execution_count": null,
   "metadata": {},
   "outputs": [],
   "source": [
    " precision    recall  f1-score   support\n",
    "\n",
    "       anger       0.00      0.00      0.00        33\n",
    "     boredom       0.00      0.00      0.00        57\n",
    "       empty       0.04      0.00      0.01       242\n",
    "  enthusiasm       0.10      0.01      0.01       249\n",
    "         fun       0.13      0.05      0.08       513\n",
    "   happiness       0.33      0.33      0.33      1568\n",
    "        hate       0.32      0.16      0.22       383\n",
    "        love       0.43      0.39      0.40      1134\n",
    "     neutral       0.35      0.57      0.43      2620\n",
    "      relief       0.21      0.05      0.08       515\n",
    "     sadness       0.32      0.27      0.29      1560\n",
    "    surprise       0.15      0.06      0.09       625\n",
    "       worry       0.34      0.41      0.37      2501\n",
    "\n",
    "    accuracy                           0.34     12000\n",
    "   macro avg       0.21      0.18      0.18     12000\n",
    "weighted avg       0.31      0.34      0.31     12000\n"
   ]
  },
  {
   "cell_type": "code",
   "execution_count": 10,
   "metadata": {},
   "outputs": [
    {
     "data": {
      "text/plain": [
       "(28000, 48185)"
      ]
     },
     "execution_count": 10,
     "metadata": {},
     "output_type": "execute_result"
    }
   ],
   "source": [
    "X_train.shape"
   ]
  },
  {
   "cell_type": "code",
   "execution_count": null,
   "metadata": {},
   "outputs": [],
   "source": []
  },
  {
   "cell_type": "code",
   "execution_count": null,
   "metadata": {},
   "outputs": [],
   "source": [
    "clf_sgbd = SGDClassifier()\n",
    "clf_sgbd.fit(X_train, y_train)\n",
    "pred_sgbd = clf_sgbd.predict(X_test)\n",
    "#print('Fl Score', f1_score(y_test, y_pred, average=None))\n",
    "print(classification_report(y_test,pred_sgbd))"
   ]
  },
  {
   "cell_type": "code",
   "execution_count": null,
   "metadata": {},
   "outputs": [],
   "source": []
  },
  {
   "cell_type": "code",
   "execution_count": 11,
   "metadata": {},
   "outputs": [],
   "source": [
    "import numpy as np\n",
    "\n",
    "import matplotlib.pyplot as plt\n",
    "\n",
    "from tensorflow import keras\n",
    "import tensorflow as tf\n",
    "from keras.layers import Dense, Input\n",
    "from keras.models import Model\n",
    "\n",
    "import scipy\n"
   ]
  },
  {
   "cell_type": "code",
   "execution_count": 12,
   "metadata": {},
   "outputs": [],
   "source": [
    "#inputs = Input(shape=(X_train.shape[1],), sparse=True)\n",
    "#outputs = Dense(y_train.shape[1], activation='softmax')(inputs)\n",
    "\n",
    "# Create the model \n",
    "model = keras.Sequential()\n",
    "#model.add(keras.layers.Dense(units = 2, activation = 'linear', input_shape=(1,)))\n",
    "model.add(keras.layers.Dense(units = 10, activation = 'linear', input_shape=[X_train.shape[1]]))\n",
    "#model.add(keras.layers.Dense(13, activation='sigmoid'))\n",
    "#model.add(Dropout(0.5))\n",
    "model.add(keras.layers.Dense(units = 64, activation = 'relu'))\n",
    "model.add(keras.layers.Dense(units = 13, activation = 'softmax'))\n",
    "\n",
    "#model.compile(loss='mse', optimizer=\"adam\", metrics=['accuracy', 'mae'])\n",
    "\n",
    "model.compile(loss='sparse_categorical_crossentropy', optimizer=\"adam\", metrics=['accuracy', 'mae'])\n",
    "\n",
    "#loss_fn = keras.losses.SparseCategoricalCrossentropy()??????"
   ]
  },
  {
   "cell_type": "code",
   "execution_count": null,
   "metadata": {},
   "outputs": [],
   "source": []
  },
  {
   "cell_type": "code",
   "execution_count": 13,
   "metadata": {},
   "outputs": [
    {
     "name": "stdout",
     "output_type": "stream",
     "text": [
      "Model: \"sequential\"\n",
      "_________________________________________________________________\n",
      "Layer (type)                 Output Shape              Param #   \n",
      "=================================================================\n",
      "dense (Dense)                (None, 10)                481860    \n",
      "_________________________________________________________________\n",
      "dense_1 (Dense)              (None, 64)                704       \n",
      "_________________________________________________________________\n",
      "dense_2 (Dense)              (None, 13)                845       \n",
      "=================================================================\n",
      "Total params: 483,409\n",
      "Trainable params: 483,409\n",
      "Non-trainable params: 0\n",
      "_________________________________________________________________\n"
     ]
    }
   ],
   "source": [
    "model.summary()\n"
   ]
  },
  {
   "cell_type": "code",
   "execution_count": 14,
   "metadata": {},
   "outputs": [
    {
     "data": {
      "text/plain": [
       "(28000, 48185)"
      ]
     },
     "execution_count": 14,
     "metadata": {},
     "output_type": "execute_result"
    }
   ],
   "source": [
    "X_train.shape"
   ]
  },
  {
   "cell_type": "code",
   "execution_count": null,
   "metadata": {},
   "outputs": [],
   "source": [
    "type(X_train)"
   ]
  },
  {
   "cell_type": "code",
   "execution_count": null,
   "metadata": {},
   "outputs": [],
   "source": [
    "#print(X_train)"
   ]
  },
  {
   "cell_type": "code",
   "execution_count": 16,
   "metadata": {},
   "outputs": [
    {
     "name": "stdout",
     "output_type": "stream",
     "text": [
      "Epoch 1/8\n",
      "510/510 [==============================] - 22s 31ms/step - loss: 2.2614 - accuracy: 0.2282 - mae: 8.2687 - val_loss: 1.9938 - val_accuracy: 0.3092 - val_mae: 8.2150\n",
      "Epoch 2/8\n",
      "510/510 [==============================] - 14s 27ms/step - loss: 1.8274 - accuracy: 0.3788 - mae: 8.2111 - val_loss: 1.9629 - val_accuracy: 0.3235 - val_mae: 8.2150\n",
      "Epoch 3/8\n",
      "510/510 [==============================] - 17s 32ms/step - loss: 1.4407 - accuracy: 0.5110 - mae: 8.2540 - val_loss: 2.1225 - val_accuracy: 0.3203 - val_mae: 8.2150\n",
      "Epoch 4/8\n",
      "510/510 [==============================] - 16s 30ms/step - loss: 1.0068 - accuracy: 0.6949 - mae: 8.2263 - val_loss: 2.4096 - val_accuracy: 0.2954 - val_mae: 8.2150\n",
      "Epoch 5/8\n",
      "510/510 [==============================] - 15s 29ms/step - loss: 0.6758 - accuracy: 0.8115 - mae: 8.2594 - val_loss: 2.7173 - val_accuracy: 0.2758 - val_mae: 8.2150curacy: 0.8118 - m\n",
      "Epoch 6/8\n",
      "510/510 [==============================] - 15s 28ms/step - loss: 0.4740 - accuracy: 0.8685 - mae: 8.2572 - val_loss: 3.0141 - val_accuracy: 0.2734 - val_mae: 8.2150\n",
      "Epoch 7/8\n",
      "510/510 [==============================] - 12s 24ms/step - loss: 0.3544 - accuracy: 0.9015 - mae: 8.2656 - val_loss: 3.2947 - val_accuracy: 0.2621 - val_mae: 8.2150\n",
      "Epoch 8/8\n",
      "510/510 [==============================] - 12s 22ms/step - loss: 0.2742 - accuracy: 0.9262 - mae: 8.2384 - val_loss: 3.5966 - val_accuracy: 0.2578 - val_mae: 8.2150\n"
     ]
    }
   ],
   "source": [
    "#import scipy\n",
    "# Learn\n",
    "#x= x_data1\n",
    "from sklearn.preprocessing import LabelEncoder\n",
    "\n",
    "X_test= X_test.sorted_indices()\n",
    "X_train= X_train.sorted_indices()\n",
    "\n",
    "encoder = LabelEncoder()\n",
    "y_train = encoder.fit_transform(y_train)\n",
    "y_test = encoder.fit_transform(y_test)\n",
    "\n",
    "#et delete le validation data ou faire un encoder dessus aussi ?\n",
    "\n",
    "#xx= tf.sparse.reorder(X_train)\n",
    "#xx= scipy.sort_indices(X_train)\n",
    "modfit= model.fit(X_train,y_train, epochs= 8, verbose=1, validation_data=(X_test,y_test), batch_size= 55)\n",
    "#x.shape"
   ]
  },
  {
   "cell_type": "raw",
   "metadata": {},
   "source": [
    "Epoch 1/8\n",
    "875/875 [==============================] - 23s 21ms/step - loss: 2.1682 - accuracy: 0.2667 - mae: 8.2342\n",
    "Epoch 2/8\n",
    "875/875 [==============================] - 19s 21ms/step - loss: 1.6075 - accuracy: 0.4631 - mae: 8.2251\n",
    "Epoch 3/8\n",
    "875/875 [==============================] - 20s 22ms/step - loss: 1.0843 - accuracy: 0.6627 - mae: 8.2275\n",
    "Epoch 4/8\n",
    "875/875 [==============================] - 20s 22ms/step - loss: 0.6476 - accuracy: 0.8111 - mae: 8.2081\n",
    "Epoch 5/8\n",
    "875/875 [==============================] - 20s 22ms/step - loss: 0.4245 - accuracy: 0.8781 - mae: 8.23752s - loss: 0.4223 - accu - ETA: 1s - loss: 0.4230 - accu - ETA: 0s - loss: 0.4237 - ac\n",
    "Epoch 6/8\n",
    "875/875 [==============================] - 21s 22ms/step - loss: 0.3001 - accuracy: 0.9100 - mae: 8.22054s - loss: 0.2937 - accuracy: 0.9126 - mae:  - ETA: 3s - loss: - ETA: 2s - loss: 0.2960 \n",
    "Epoch 7/8\n",
    "875/875 [==============================] - 20s 23ms/step - loss: 0.2359 - accuracy: 0.9301 - mae: 8.23460s - loss: 0.2355 - accuracy: 0.9302\n",
    "Epoch 8/8\n",
    "875/875 [==============================] - 22s 23ms/step - loss: 0.1943 - accuracy: 0.9393 - mae: 8.2517"
   ]
  },
  {
   "cell_type": "code",
   "execution_count": 17,
   "metadata": {},
   "outputs": [
    {
     "data": {
      "text/plain": [
       "[<matplotlib.lines.Line2D at 0x7fd87b435a30>]"
      ]
     },
     "execution_count": 17,
     "metadata": {},
     "output_type": "execute_result"
    },
    {
     "data": {
      "image/png": "[encoded data removed]",
      "text/plain": [
       "<Figure size 1440x864 with 1 Axes>"
      ]
     },
     "metadata": {
      "needs_background": "light"
     },
     "output_type": "display_data"
    }
   ],
   "source": [
    "plt.figure(figsize= (20,12))\n",
    "plt.plot(modfit.history['loss'])"
   ]
  },
  {
   "cell_type": "code",
   "execution_count": null,
   "metadata": {},
   "outputs": [],
   "source": []
  },
  {
   "cell_type": "code",
   "execution_count": null,
   "metadata": {},
   "outputs": [],
   "source": [
    "#print(X_test)\n",
    "#import copy\n",
    "#from tensorflow import SparseTensor\n",
    "#TEST= copy.deepcopy(X_test)"
   ]
  },
  {
   "cell_type": "code",
   "execution_count": 18,
   "metadata": {},
   "outputs": [],
   "source": [
    "y_predicted = model.predict(X_test)\n",
    "#mse = tf.keras.losses.MeanSquaredError()\n",
    "#print(mse(y_test, y_predicted).numpy())"
   ]
  },
  {
   "cell_type": "code",
   "execution_count": 19,
   "metadata": {},
   "outputs": [
    {
     "name": "stdout",
     "output_type": "stream",
     "text": [
      "375/375 [==============================] - 3s 9ms/step - loss: 3.5966 - accuracy: 0.2578 - mae: 8.2150\n"
     ]
    }
   ],
   "source": [
    "#print(classification_report(y_test,y_predicted))\n",
    "\n",
    "# 375/375 [==============================] - 1s 2ms/step - loss: 4.5983 - accuracy: 0.2663 - mae: 8.2150\n",
    "\n",
    "accuracy = model.evaluate(X_test, y_test, verbose= True)"
   ]
  },
  {
   "cell_type": "code",
   "execution_count": null,
   "metadata": {},
   "outputs": [],
   "source": [
    "#375/375 [==============================] - 6s 12ms/step - loss: 4.4008 - accuracy: 0.2586 - mae: 8.2150 Sans TFIDF... Peu de changement !"
   ]
  },
  {
   "cell_type": "markdown",
   "metadata": {},
   "source": [
    "## lkqhmlkfqsh "
   ]
  },
  {
   "cell_type": "code",
   "execution_count": 20,
   "metadata": {},
   "outputs": [
    {
     "data": {
      "text/plain": [
       "[<matplotlib.lines.Line2D at 0x7fd87a3573d0>]"
      ]
     },
     "execution_count": 20,
     "metadata": {},
     "output_type": "execute_result"
    },
    {
     "data": {
      "image/png": "[encoded data removed]",
      "text/plain": [
       "<Figure size 1440x864 with 1 Axes>"
      ]
     },
     "metadata": {
      "needs_background": "light"
     },
     "output_type": "display_data"
    }
   ],
   "source": [
    "plt.figure(figsize= (20,12))\n",
    "plt.plot(modfit.history['accuracy'])"
   ]
  },
  {
   "cell_type": "code",
   "execution_count": 21,
   "metadata": {},
   "outputs": [],
   "source": [
    "#import matplotlib.pyplot as plt\n",
    "plt.style.use('ggplot')\n",
    "\n",
    "def plot_history(history):\n",
    "    acc = history.history['accuracy']\n",
    "    val_acc = history.history['val_accuracy']\n",
    "    loss = history.history['loss']\n",
    "    val_loss = history.history['val_loss']\n",
    "    x = range(1, len(acc) + 1)\n",
    "\n",
    "    plt.figure(figsize=(12, 5))\n",
    "    plt.subplot(1, 2, 1)\n",
    "    plt.plot(x, acc, 'b', label='Training acc')\n",
    "    plt.plot(x, val_acc, 'r', label='Validation acc')\n",
    "    plt.title('Training and validation accuracy')\n",
    "    plt.legend()\n",
    "    plt.subplot(1, 2, 2)\n",
    "    plt.plot(x, loss, 'b', label='Training loss')\n",
    "    plt.plot(x, val_loss, 'r', label='Validation loss')\n",
    "    plt.title('Training and validation loss')\n",
    "    plt.legend()\n"
   ]
  },
  {
   "cell_type": "code",
   "execution_count": 22,
   "metadata": {},
   "outputs": [
    {
     "data": {
      "image/png": "[encoded data removed]",
      "text/plain": [
       "<Figure size 864x360 with 2 Axes>"
      ]
     },
     "metadata": {},
     "output_type": "display_data"
    }
   ],
   "source": [
    "plot_history(modfit)"
   ]
  },
  {
   "cell_type": "code",
   "execution_count": 23,
   "metadata": {},
   "outputs": [
    {
     "data": {
      "image/png": "[encoded data removed]",
      "text/plain": [
       "<Figure size 432x288 with 2 Axes>"
      ]
     },
     "metadata": {},
     "output_type": "display_data"
    }
   ],
   "source": [
    "# Code d'Olivier\n",
    "#LOSS + ACCURACY per EPOCHS\n",
    "\n",
    "# Create two subplots and unpack the output array immediately\n",
    "fig, ax = plt.subplots(2, 1, constrained_layout=True)\n",
    "\n",
    "ax[0].set_title('LOSS = Sparse Categorical Crossentropy per EPOCH')\n",
    "ax[0].set_xlabel('EPOCHS')\n",
    "ax[0].set_ylabel('LOSS')\n",
    "ax[0].plot(modfit.history['loss'])\n",
    "ax[0].grid(True)\n",
    "\n",
    "ax[1].set_title('ACCURACY per EPOCH')\n",
    "ax[1].set_xlabel('EPOCHS')\n",
    "ax[1].set_ylabel('ACCURACY')\n",
    "ax[1].plot(modfit.history['accuracy'])\n",
    "ax[1].grid(True)\n",
    "\n",
    "plt.show()"
   ]
  },
  {
   "cell_type": "code",
   "execution_count": null,
   "metadata": {},
   "outputs": [],
   "source": []
  },
  {
   "cell_type": "code",
   "execution_count": null,
   "metadata": {},
   "outputs": [],
   "source": []
  },
  {
   "cell_type": "code",
   "execution_count": null,
   "metadata": {},
   "outputs": [],
   "source": []
  },
  {
   "cell_type": "code",
   "execution_count": null,
   "metadata": {},
   "outputs": [],
   "source": []
  },
  {
   "cell_type": "code",
   "execution_count": null,
   "metadata": {},
   "outputs": [],
   "source": []
  },
  {
   "cell_type": "code",
   "execution_count": null,
   "metadata": {},
   "outputs": [],
   "source": []
  },
  {
   "cell_type": "code",
   "execution_count": null,
   "metadata": {},
   "outputs": [],
   "source": []
  },
  {
   "cell_type": "code",
   "execution_count": null,
   "metadata": {},
   "outputs": [],
   "source": []
  }
 ],
 "metadata": {
  "file_extension": ".py",
  "kernelspec": {
   "display_name": "Python 3",
   "language": "python",
   "name": "python3"
  },
  "language_info": {
   "codemirror_mode": {
    "name": "ipython",
    "version": 3
   },
   "file_extension": ".py",
   "mimetype": "text/x-python",
   "name": "python",
   "nbconvert_exporter": "python",
   "pygments_lexer": "ipython3",
   "version": "3.8.8"
  },
  "mimetype": "text/x-python",
  "name": "python",
  "npconvert_exporter": "python",
  "pygments_lexer": "ipython3",
  "version": 3
 },
 "nbformat": 4,
 "nbformat_minor": 4
}
